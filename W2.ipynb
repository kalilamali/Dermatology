{
  "nbformat": 4,
  "nbformat_minor": 0,
  "metadata": {
    "colab": {
      "name": "W2.ipynb",
      "provenance": [],
      "collapsed_sections": []
    },
    "kernelspec": {
      "name": "python3",
      "display_name": "Python 3"
    },
    "accelerator": "GPU"
  },
  "cells": [
    {
      "cell_type": "code",
      "metadata": {
        "id": "vYUlsg5kFL8m",
        "colab_type": "code",
        "colab": {}
      },
      "source": [
        "# Import libraries\n",
        "import torch\n",
        "import torch.nn.functional as F\n",
        "import torch.optim as optim\n",
        "import torchvision\n",
        "\n",
        "from torch.nn import Linear, Conv2d\n",
        "from torch import nn"
      ],
      "execution_count": 0,
      "outputs": []
    },
    {
      "cell_type": "code",
      "metadata": {
        "id": "PwjooJKBg4Ev",
        "colab_type": "code",
        "colab": {}
      },
      "source": [
        "# Hyperameters of the model\n",
        "num_classes = 2 # Skin vs. Not skin\n",
        "height = 100    # Input image height\n",
        "width = 100     # Input image width"
      ],
      "execution_count": 0,
      "outputs": []
    },
    {
      "cell_type": "code",
      "metadata": {
        "id": "DzGdMf5Bq0gX",
        "colab_type": "code",
        "colab": {}
      },
      "source": [
        "def compute_conv_dim(i,k,p,s):\n",
        "    # out_dim = (input_dim - kernel_filter_dim + 2 * padding) / stride + 1\n",
        "    return int((i - k + 2 * p) / s + 1)"
      ],
      "execution_count": 0,
      "outputs": []
    },
    {
      "cell_type": "markdown",
      "metadata": {
        "id": "V3WWeE-7waoc",
        "colab_type": "text"
      },
      "source": [
        "Define the neural network that has some learnable parameters (or weights)"
      ]
    },
    {
      "cell_type": "code",
      "metadata": {
        "id": "V6DavRiRDeoi",
        "colab_type": "code",
        "outputId": "ce534ba4-2555-4418-c99d-bde1cd2b09bc",
        "colab": {
          "base_uri": "https://localhost:8080/",
          "height": 153
        }
      },
      "source": [
        "# Define the neural network\n",
        "class Net(nn.Module):\n",
        "\n",
        "    def __init__(self):\n",
        "        super(Net, self).__init__()\n",
        "\n",
        "        self.conv1 = Conv2d(3,16,3)\n",
        "        self.conv2 = Conv2d(16,16,3)\n",
        "        self.conv3 = Conv2d(16,16,3)\n",
        "        self.conv4 = Conv2d(16,128,3)\n",
        "\n",
        "        self.conv_out_height = compute_conv_dim(48,3,0,1)\n",
        "        self.conv_out_width = compute_conv_dim(48,3,0,1)\n",
        "    \n",
        "        self.l1_in_features = 128 * self.conv_out_height * self.conv_out_width\n",
        "\n",
        "        self.fc1 = Linear(in_features=self.l1_in_features, \n",
        "                          out_features=1)\n",
        "        self.fc2 = Linear(in_features=1, \n",
        "                            out_features=num_classes)\n",
        "        \n",
        "    def forward(self, x):\n",
        "        x = F.relu(self.conv1(x))\n",
        "        x = F.relu(self.conv2(x))\n",
        "        x = F.relu(self.conv3(x))\n",
        "        # Max pooling over a (2, 2) window\n",
        "        x = F.max_pool2d(F.relu(self.conv4(x)), (2, 2))\n",
        "        x = x.view(-1, self.num_flat_features(x))\n",
        "        x = F.relu(self.fc1(x))\n",
        "        x = torch.sigmoid(self.fc2(x))\n",
        "        return x\n",
        "\n",
        "    def num_flat_features(self, x):\n",
        "        size = x.size()[1:]  # all dimensions except the batch dimension\n",
        "        num_features = 1\n",
        "        for s in size:\n",
        "            num_features *= s\n",
        "        return num_features\n",
        "\n",
        "\n",
        "net = Net()\n",
        "print(net)"
      ],
      "execution_count": 0,
      "outputs": [
        {
          "output_type": "stream",
          "text": [
            "Net(\n",
            "  (conv1): Conv2d(3, 16, kernel_size=(3, 3), stride=(1, 1))\n",
            "  (conv2): Conv2d(16, 16, kernel_size=(3, 3), stride=(1, 1))\n",
            "  (conv3): Conv2d(16, 16, kernel_size=(3, 3), stride=(1, 1))\n",
            "  (conv4): Conv2d(16, 128, kernel_size=(3, 3), stride=(1, 1))\n",
            "  (fc1): Linear(in_features=270848, out_features=1, bias=True)\n",
            "  (fc2): Linear(in_features=1, out_features=2, bias=True)\n",
            ")\n"
          ],
          "name": "stdout"
        }
      ]
    },
    {
      "cell_type": "code",
      "metadata": {
        "id": "-stFZL3z13iJ",
        "colab_type": "code",
        "colab": {}
      },
      "source": [
        "criterion = nn.CrossEntropyLoss()\n",
        "optimizer = optim.Adam(net.parameters(), lr=0.001)"
      ],
      "execution_count": 0,
      "outputs": []
    },
    {
      "cell_type": "code",
      "metadata": {
        "id": "HsSgK5T116Ln",
        "colab_type": "code",
        "outputId": "d09e762e-64d3-41ec-e951-889fe16b86e2",
        "colab": {
          "base_uri": "https://localhost:8080/",
          "height": 306
        }
      },
      "source": [
        "# Test the forward pass with dummy data\n",
        "# Random input\n",
        "input = torch.randn(16, 3, 100, 100)\n",
        "out = net(input)\n",
        "print(out.size())\n",
        "print(out)"
      ],
      "execution_count": 0,
      "outputs": [
        {
          "output_type": "stream",
          "text": [
            "torch.Size([16, 2])\n",
            "tensor([[0.7109, 0.3160],\n",
            "        [0.7127, 0.3159],\n",
            "        [0.7129, 0.3159],\n",
            "        [0.7112, 0.3159],\n",
            "        [0.7115, 0.3159],\n",
            "        [0.7110, 0.3159],\n",
            "        [0.7107, 0.3160],\n",
            "        [0.7116, 0.3159],\n",
            "        [0.7117, 0.3159],\n",
            "        [0.7105, 0.3160],\n",
            "        [0.7106, 0.3160],\n",
            "        [0.7118, 0.3159],\n",
            "        [0.7115, 0.3159],\n",
            "        [0.7097, 0.3160],\n",
            "        [0.7105, 0.3160],\n",
            "        [0.7115, 0.3159]], grad_fn=<SigmoidBackward>)\n"
          ],
          "name": "stdout"
        }
      ]
    },
    {
      "cell_type": "code",
      "metadata": {
        "id": "gbXnVsLT2aeA",
        "colab_type": "code",
        "outputId": "87c6c0a5-2258-4bca-bbe3-a001014019fe",
        "colab": {
          "base_uri": "https://localhost:8080/",
          "height": 232
        }
      },
      "source": [
        "from sklearn.metrics import accuracy_score\n",
        "# train dataset will have 800 000 images\n",
        "batch_size = 100 # 1000?\n",
        "num_epochs = 50\n",
        "\n",
        "num_samples_train = x_train.shape[0]\n",
        "num_batches_train = num_samples_train // batch_size  #800 000/100 = 8000\n",
        "num_samples_valid = x_valid.shape[0]\n",
        "num_batches_valid = num_samples_valid // batch_size\n",
        "\n",
        "train_acc, train_loss = [], []\n",
        "valid_acc, valid_loss = [], []\n",
        "test_acc, test_loss = [], []\n",
        "cur_loss = 0\n",
        "losses = []\n",
        "\n",
        "get_slice = lambda i, size: range(i * size, (i + 1) * size)\n",
        "\n",
        "for epoch in range(num_epochs):\n",
        "    # Forward -> Backprob -> Update params\n",
        "    ## Train\n",
        "    cur_loss = 0\n",
        "    net.train()\n",
        "    for i in range(num_batches_train):\n",
        "        slce = get_slice(i, batch_size)\n",
        "        x_batch = Variable(torch.from_numpy(x_train[slce]))\n",
        "        output = net(x_batch)\n",
        "        \n",
        "        # compute gradients given loss\n",
        "        target_batch = Variable(torch.from_numpy(targets_train[slce]).long())\n",
        "        batch_loss = criterion(output, target_batch)\n",
        "        optimizer.zero_grad()\n",
        "        batch_loss.backward()\n",
        "        optimizer.step()\n",
        "        \n",
        "        cur_loss += batch_loss   \n",
        "    losses.append(cur_loss / batch_size)\n",
        "\n",
        "    net.eval()\n",
        "    ### Evaluate training\n",
        "    train_preds, train_targs = [], []\n",
        "    for i in range(num_batches_train):\n",
        "        slce = get_slice(i, batch_size)\n",
        "        x_batch = Variable(torch.from_numpy(x_train[slce]))\n",
        "        \n",
        "        output = net(x_batch)\n",
        "        preds = torch.max(output, 1)[1]\n",
        "        \n",
        "        train_targs += list(targets_train[slce])\n",
        "        train_preds += list(preds.data.numpy())\n",
        "    \n",
        "    ### Evaluate validation\n",
        "    val_preds, val_targs = [], []\n",
        "    for i in range(num_batches_valid):\n",
        "        slce = get_slice(i, batch_size)\n",
        "        x_batch = Variable(torch.from_numpy(x_valid[slce]))\n",
        "        \n",
        "        output = net(x_batch)\n",
        "        preds = torch.max(output, 1)[1]\n",
        "        val_preds += list(preds.data.numpy())\n",
        "        val_targs += list(targets_valid[slce])\n",
        "\n",
        "    train_acc_cur = accuracy_score(train_targs, train_preds)\n",
        "    valid_acc_cur = accuracy_score(val_targs, val_preds)\n",
        "    \n",
        "    train_acc.append(train_acc_cur)\n",
        "    valid_acc.append(valid_acc_cur)\n",
        "    \n",
        "    if epoch % 10 == 0:\n",
        "        print(\"Epoch %2i : Train Loss %f , Train acc %f, Valid acc %f\" % (\n",
        "                epoch+1, losses[-1], train_acc_cur, valid_acc_cur))\n",
        "        \n",
        "epoch = np.arange(len(train_acc))\n",
        "plt.figure()\n",
        "plt.plot(epoch, train_acc, 'r', epoch, valid_acc, 'b')\n",
        "plt.legend(['Train Acc', 'Val Acc'])\n",
        "plt.xlabel('Epochs')\n",
        "plt.ylabel('Acc')\n",
        "\n",
        "### Evaluate test set\n",
        "x_batch = Variable(torch.from_numpy(x_test))\n",
        "output = net(x_batch)\n",
        "preds = torch.max(output, 1)[1]\n",
        "print(\"\\nTest set Acc:  %f\" % (accuracy_score(list(targets_test), list(preds.data.numpy()))))"
      ],
      "execution_count": 0,
      "outputs": [
        {
          "output_type": "error",
          "ename": "NameError",
          "evalue": "ignored",
          "traceback": [
            "\u001b[0;31m---------------------------------------------------------------------------\u001b[0m",
            "\u001b[0;31mNameError\u001b[0m                                 Traceback (most recent call last)",
            "\u001b[0;32m<ipython-input-11-24f4927ffd71>\u001b[0m in \u001b[0;36m<module>\u001b[0;34m()\u001b[0m\n\u001b[1;32m      4\u001b[0m \u001b[0mnum_epochs\u001b[0m \u001b[0;34m=\u001b[0m \u001b[0;36m50\u001b[0m\u001b[0;34m\u001b[0m\u001b[0;34m\u001b[0m\u001b[0m\n\u001b[1;32m      5\u001b[0m \u001b[0;34m\u001b[0m\u001b[0m\n\u001b[0;32m----> 6\u001b[0;31m \u001b[0mnum_samples_train\u001b[0m \u001b[0;34m=\u001b[0m \u001b[0mx_train\u001b[0m\u001b[0;34m.\u001b[0m\u001b[0mshape\u001b[0m\u001b[0;34m[\u001b[0m\u001b[0;36m0\u001b[0m\u001b[0;34m]\u001b[0m\u001b[0;34m\u001b[0m\u001b[0;34m\u001b[0m\u001b[0m\n\u001b[0m\u001b[1;32m      7\u001b[0m \u001b[0mnum_batches_train\u001b[0m \u001b[0;34m=\u001b[0m \u001b[0mnum_samples_train\u001b[0m \u001b[0;34m//\u001b[0m \u001b[0mbatch_size\u001b[0m  \u001b[0;31m#800 000/100 = 8000\u001b[0m\u001b[0;34m\u001b[0m\u001b[0;34m\u001b[0m\u001b[0m\n\u001b[1;32m      8\u001b[0m \u001b[0mnum_samples_valid\u001b[0m \u001b[0;34m=\u001b[0m \u001b[0mx_valid\u001b[0m\u001b[0;34m.\u001b[0m\u001b[0mshape\u001b[0m\u001b[0;34m[\u001b[0m\u001b[0;36m0\u001b[0m\u001b[0;34m]\u001b[0m\u001b[0;34m\u001b[0m\u001b[0;34m\u001b[0m\u001b[0m\n",
            "\u001b[0;31mNameError\u001b[0m: name 'x_train' is not defined"
          ]
        }
      ]
    },
    {
      "cell_type": "markdown",
      "metadata": {
        "id": "Z79fHpfawUBK",
        "colab_type": "text"
      },
      "source": [
        "Iterate over a dataset of inputs"
      ]
    },
    {
      "cell_type": "code",
      "metadata": {
        "id": "58egJBf0FBVA",
        "colab_type": "code",
        "outputId": "9f8a0b8a-cd19-432a-ef12-058080aa64ab",
        "colab": {
          "base_uri": "https://localhost:8080/",
          "height": 54
        }
      },
      "source": [
        "# Not using this\n",
        "'''\n",
        "# Load image net dataset\n",
        "imagenet_data = torchvision.datasets.ImageNet('path/to/imagenet_root/')\n",
        "data_loader = torch.utils.data.DataLoader(imagenet_data,\n",
        "                                          batch_size=4,\n",
        "                                          shuffle=True,\n",
        "                                          num_workers=args.nThreads)\n",
        "next(data_loader)\n",
        "'''"
      ],
      "execution_count": 0,
      "outputs": [
        {
          "output_type": "execute_result",
          "data": {
            "text/plain": [
              "\"\\n# Load image net dataset\\nimagenet_data = torchvision.datasets.ImageNet('path/to/imagenet_root/')\\ndata_loader = torch.utils.data.DataLoader(imagenet_data,\\n                                          batch_size=4,\\n                                          shuffle=True,\\n                                          num_workers=args.nThreads)\\nnext(data_loader)\\n\""
            ]
          },
          "metadata": {
            "tags": []
          },
          "execution_count": 12
        }
      ]
    },
    {
      "cell_type": "markdown",
      "metadata": {
        "id": "pkGaT_4wwXrS",
        "colab_type": "text"
      },
      "source": [
        " Process input through the network"
      ]
    },
    {
      "cell_type": "markdown",
      "metadata": {
        "id": "WYx-5vlPwgLD",
        "colab_type": "text"
      },
      "source": [
        " Compute the loss (how far is the output from being correct)"
      ]
    },
    {
      "cell_type": "markdown",
      "metadata": {
        "id": "HWIqtx6hwgPZ",
        "colab_type": "text"
      },
      "source": [
        "Propagate gradients back into the network’s parameters"
      ]
    },
    {
      "cell_type": "markdown",
      "metadata": {
        "id": "4zSoozv6wlyy",
        "colab_type": "text"
      },
      "source": [
        "Update the weights of the network, typically using a simple update rule: weight = weight - learning_rate * gradient"
      ]
    },
    {
      "cell_type": "code",
      "metadata": {
        "id": "l9VHLHNiadQc",
        "colab_type": "code",
        "outputId": "3a59df9e-4a16-4f52-e510-47926bd470e8",
        "colab": {
          "base_uri": "https://localhost:8080/",
          "height": 122
        }
      },
      "source": [
        "# Mount drive\n",
        "from google.colab import drive\n",
        "drive.mount('/content/drive')"
      ],
      "execution_count": 0,
      "outputs": [
        {
          "output_type": "stream",
          "text": [
            "Go to this URL in a browser: https://accounts.google.com/o/oauth2/auth?client_id=947318989803-6bn6qk8qdgf4n4g3pfee6491hc0brc4i.apps.googleusercontent.com&redirect_uri=urn%3aietf%3awg%3aoauth%3a2.0%3aoob&response_type=code&scope=email%20https%3a%2f%2fwww.googleapis.com%2fauth%2fdocs.test%20https%3a%2f%2fwww.googleapis.com%2fauth%2fdrive%20https%3a%2f%2fwww.googleapis.com%2fauth%2fdrive.photos.readonly%20https%3a%2f%2fwww.googleapis.com%2fauth%2fpeopleapi.readonly\n",
            "\n",
            "Enter your authorization code:\n",
            "··········\n",
            "Mounted at /content/drive\n"
          ],
          "name": "stdout"
        }
      ]
    },
    {
      "cell_type": "code",
      "metadata": {
        "id": "brpbgRKxa_Uj",
        "colab_type": "code",
        "outputId": "0250c216-fcf5-44b9-8f35-6f71f52c2d7c",
        "colab": {
          "base_uri": "https://localhost:8080/",
          "height": 51
        }
      },
      "source": [
        "# Go to the your drive folder\n",
        "% cd './drive/My Drive/'\n",
        "\n",
        "# Specify the folder that contains the ISIC 2019 data\n",
        "data_dir = '/content/drive/My Drive/dataset'\n",
        "# Verify files are there\n",
        "% ls"
      ],
      "execution_count": 0,
      "outputs": [
        {
          "output_type": "stream",
          "text": [
            "/content/drive/My Drive\n",
            "\u001b[0m\u001b[01;34m'Colab Notebooks'\u001b[0m/   \u001b[01;34mdataset\u001b[0m/\n"
          ],
          "name": "stdout"
        }
      ]
    },
    {
      "cell_type": "code",
      "metadata": {
        "id": "yzQIg-21aMg6",
        "colab_type": "code",
        "outputId": "a0c1be8e-871f-4d7c-e008-ed97d437d858",
        "colab": {
          "base_uri": "https://localhost:8080/",
          "height": 1000
        }
      },
      "source": [
        "import os\n",
        "from glob import glob\n",
        "# Create column path to store each image path\n",
        "all_image_path = glob(os.path.join(data_dir, '*', '*.jpg'))\n",
        "imageid_path_dict = {os.path.splitext(os.path.basename(x))[0]: x for x in all_image_path}\n",
        "imageid_path_dict"
      ],
      "execution_count": 0,
      "outputs": [
        {
          "output_type": "execute_result",
          "data": {
            "text/plain": [
              "{'00000000': '/content/drive/My Drive/dataset/skin/00000000.jpg',\n",
              " '00000001': '/content/drive/My Drive/dataset/skin/00000001.jpg',\n",
              " '00000002': '/content/drive/My Drive/dataset/skin/00000002.jpg',\n",
              " '00000003': '/content/drive/My Drive/dataset/skin/00000003.jpg',\n",
              " '00000004': '/content/drive/My Drive/dataset/skin/00000004.jpg',\n",
              " '00000005': '/content/drive/My Drive/dataset/skin/00000005.jpg',\n",
              " '00000006': '/content/drive/My Drive/dataset/skin/00000006.jpg',\n",
              " '00000007': '/content/drive/My Drive/dataset/skin/00000007.jpg',\n",
              " '00000008': '/content/drive/My Drive/dataset/skin/00000008.jpg',\n",
              " '00000009': '/content/drive/My Drive/dataset/skin/00000009.jpg',\n",
              " '00000010': '/content/drive/My Drive/dataset/skin/00000010.jpg',\n",
              " '00000011': '/content/drive/My Drive/dataset/not_skin/00000011.jpg',\n",
              " '00000012': '/content/drive/My Drive/dataset/not_skin/00000012.jpg',\n",
              " '00000013': '/content/drive/My Drive/dataset/skin/00000013.jpg',\n",
              " '00000014': '/content/drive/My Drive/dataset/skin/00000014.jpg',\n",
              " '00000015': '/content/drive/My Drive/dataset/skin/00000015.jpg',\n",
              " '00000016': '/content/drive/My Drive/dataset/skin/00000016.jpg',\n",
              " '00000017': '/content/drive/My Drive/dataset/skin/00000017.jpg',\n",
              " '00000018': '/content/drive/My Drive/dataset/skin/00000018.jpg',\n",
              " '00000019': '/content/drive/My Drive/dataset/skin/00000019.jpg',\n",
              " '00000020': '/content/drive/My Drive/dataset/skin/00000020.jpg',\n",
              " '00000021': '/content/drive/My Drive/dataset/skin/00000021.jpg',\n",
              " '00000023': '/content/drive/My Drive/dataset/skin/00000023.jpg',\n",
              " '00000024': '/content/drive/My Drive/dataset/skin/00000024.jpg',\n",
              " '00000025': '/content/drive/My Drive/dataset/skin/00000025.jpg',\n",
              " '00000026': '/content/drive/My Drive/dataset/skin/00000026.jpg',\n",
              " '00000027': '/content/drive/My Drive/dataset/skin/00000027.jpg',\n",
              " '00000028': '/content/drive/My Drive/dataset/not_skin/00000028.jpg',\n",
              " '00000029': '/content/drive/My Drive/dataset/skin/00000029.jpg',\n",
              " '00000030': '/content/drive/My Drive/dataset/skin/00000030.jpg',\n",
              " '00000031': '/content/drive/My Drive/dataset/skin/00000031.jpg',\n",
              " '00000032': '/content/drive/My Drive/dataset/skin/00000032.jpg',\n",
              " '00000034': '/content/drive/My Drive/dataset/skin/00000034.jpg',\n",
              " '00000035': '/content/drive/My Drive/dataset/skin/00000035.jpg',\n",
              " '00000036': '/content/drive/My Drive/dataset/skin/00000036.jpg',\n",
              " '00000037': '/content/drive/My Drive/dataset/skin/00000037.jpg',\n",
              " '00000038': '/content/drive/My Drive/dataset/skin/00000038.jpg',\n",
              " '00000039': '/content/drive/My Drive/dataset/skin/00000039.jpg',\n",
              " '00000040': '/content/drive/My Drive/dataset/skin/00000040.jpg',\n",
              " '00000041': '/content/drive/My Drive/dataset/skin/00000041.jpg',\n",
              " '00000042': '/content/drive/My Drive/dataset/skin/00000042.jpg',\n",
              " '00000043': '/content/drive/My Drive/dataset/not_skin/00000043.jpg',\n",
              " '00000044': '/content/drive/My Drive/dataset/skin/00000044.jpg',\n",
              " '00000045': '/content/drive/My Drive/dataset/skin/00000045.jpg',\n",
              " '00000046': '/content/drive/My Drive/dataset/skin/00000046.jpg',\n",
              " '00000047': '/content/drive/My Drive/dataset/skin/00000047.jpg',\n",
              " '00000048': '/content/drive/My Drive/dataset/not_skin/00000048.jpg',\n",
              " '00000049': '/content/drive/My Drive/dataset/skin/00000049.jpg',\n",
              " '00000050': '/content/drive/My Drive/dataset/skin/00000050.jpg',\n",
              " '00000051': '/content/drive/My Drive/dataset/skin/00000051.jpg',\n",
              " '00000052': '/content/drive/My Drive/dataset/skin/00000052.jpg',\n",
              " '00000053': '/content/drive/My Drive/dataset/skin/00000053.jpg',\n",
              " '00000055': '/content/drive/My Drive/dataset/skin/00000055.jpg',\n",
              " '00000056': '/content/drive/My Drive/dataset/skin/00000056.jpg',\n",
              " '00000058': '/content/drive/My Drive/dataset/not_skin/00000058.jpg',\n",
              " '00000059': '/content/drive/My Drive/dataset/not_skin/00000059.jpg',\n",
              " '00000060': '/content/drive/My Drive/dataset/not_skin/00000060.jpg',\n",
              " '00000061': '/content/drive/My Drive/dataset/skin/00000061.jpg',\n",
              " '00000062': '/content/drive/My Drive/dataset/skin/00000062.jpg',\n",
              " '00000063': '/content/drive/My Drive/dataset/skin/00000063.jpg',\n",
              " '00000064': '/content/drive/My Drive/dataset/skin/00000064.jpg',\n",
              " '00000065': '/content/drive/My Drive/dataset/skin/00000065.jpg',\n",
              " '00000066': '/content/drive/My Drive/dataset/skin/00000066.jpg',\n",
              " '00000067': '/content/drive/My Drive/dataset/skin/00000067.jpg',\n",
              " '00000068': '/content/drive/My Drive/dataset/skin/00000068.jpg',\n",
              " '00000069': '/content/drive/My Drive/dataset/skin/00000069.jpg',\n",
              " '00000070': '/content/drive/My Drive/dataset/skin/00000070.jpg',\n",
              " '00000071': '/content/drive/My Drive/dataset/skin/00000071.jpg',\n",
              " '00000072': '/content/drive/My Drive/dataset/skin/00000072.jpg',\n",
              " '00000073': '/content/drive/My Drive/dataset/skin/00000073.jpg',\n",
              " '00000074': '/content/drive/My Drive/dataset/skin/00000074.jpg',\n",
              " '00000076': '/content/drive/My Drive/dataset/skin/00000076.jpg',\n",
              " '00000077': '/content/drive/My Drive/dataset/skin/00000077.jpg',\n",
              " '00000078': '/content/drive/My Drive/dataset/skin/00000078.jpg',\n",
              " '00000079': '/content/drive/My Drive/dataset/not_skin/00000079.jpg',\n",
              " '00000080': '/content/drive/My Drive/dataset/skin/00000080.jpg',\n",
              " '00000081': '/content/drive/My Drive/dataset/skin/00000081.jpg',\n",
              " '00000082': '/content/drive/My Drive/dataset/skin/00000082.jpg',\n",
              " '00000083': '/content/drive/My Drive/dataset/skin/00000083.jpg',\n",
              " '00000084': '/content/drive/My Drive/dataset/skin/00000084.jpg',\n",
              " '00000085': '/content/drive/My Drive/dataset/skin/00000085.jpg',\n",
              " '00000086': '/content/drive/My Drive/dataset/skin/00000086.jpg',\n",
              " '00000087': '/content/drive/My Drive/dataset/skin/00000087.jpg',\n",
              " '00000088': '/content/drive/My Drive/dataset/skin/00000088.jpg',\n",
              " '00000089': '/content/drive/My Drive/dataset/skin/00000089.jpg',\n",
              " '00000091': '/content/drive/My Drive/dataset/skin/00000091.jpg',\n",
              " '00000092': '/content/drive/My Drive/dataset/skin/00000092.jpg',\n",
              " '00000093': '/content/drive/My Drive/dataset/skin/00000093.jpg',\n",
              " '00000095': '/content/drive/My Drive/dataset/skin/00000095.jpg',\n",
              " '00000096': '/content/drive/My Drive/dataset/skin/00000096.jpg',\n",
              " '00000097': '/content/drive/My Drive/dataset/skin/00000097.jpg',\n",
              " '00000098': '/content/drive/My Drive/dataset/skin/00000098.jpg',\n",
              " '00000099': '/content/drive/My Drive/dataset/skin/00000099.jpg',\n",
              " '00000100': '/content/drive/My Drive/dataset/skin/00000100.jpg',\n",
              " '00000101': '/content/drive/My Drive/dataset/skin/00000101.jpg',\n",
              " '00000102': '/content/drive/My Drive/dataset/skin/00000102.jpg',\n",
              " '00000104': '/content/drive/My Drive/dataset/not_skin/00000104.jpg',\n",
              " '00000105': '/content/drive/My Drive/dataset/skin/00000105.jpg',\n",
              " '00000106': '/content/drive/My Drive/dataset/skin/00000106.jpg',\n",
              " '00000108': '/content/drive/My Drive/dataset/skin/00000108.jpg',\n",
              " '00000110': '/content/drive/My Drive/dataset/skin/00000110.jpg',\n",
              " '00000111': '/content/drive/My Drive/dataset/skin/00000111.jpg',\n",
              " '00000112': '/content/drive/My Drive/dataset/skin/00000112.jpg',\n",
              " '00000113': '/content/drive/My Drive/dataset/skin/00000113.jpg',\n",
              " '00000115': '/content/drive/My Drive/dataset/skin/00000115.jpg',\n",
              " '00000116': '/content/drive/My Drive/dataset/skin/00000116.jpg',\n",
              " '00000117': '/content/drive/My Drive/dataset/skin/00000117.jpg',\n",
              " '00000118': '/content/drive/My Drive/dataset/not_skin/00000118.jpg',\n",
              " '00000120': '/content/drive/My Drive/dataset/skin/00000120.jpg',\n",
              " '00000121': '/content/drive/My Drive/dataset/skin/00000121.jpg',\n",
              " '00000122': '/content/drive/My Drive/dataset/skin/00000122.jpg',\n",
              " '00000123': '/content/drive/My Drive/dataset/skin/00000123.jpg',\n",
              " '00000124': '/content/drive/My Drive/dataset/skin/00000124.jpg',\n",
              " '00000125': '/content/drive/My Drive/dataset/skin/00000125.jpg',\n",
              " '00000126': '/content/drive/My Drive/dataset/skin/00000126.jpg',\n",
              " '00000127': '/content/drive/My Drive/dataset/skin/00000127.jpg',\n",
              " '00000128': '/content/drive/My Drive/dataset/skin/00000128.jpg',\n",
              " '00000129': '/content/drive/My Drive/dataset/not_skin/00000129.jpg',\n",
              " '00000130': '/content/drive/My Drive/dataset/not_skin/00000130.jpg',\n",
              " '00000131': '/content/drive/My Drive/dataset/skin/00000131.jpg',\n",
              " '00000132': '/content/drive/My Drive/dataset/skin/00000132.jpg',\n",
              " '00000133': '/content/drive/My Drive/dataset/skin/00000133.jpg',\n",
              " '00000134': '/content/drive/My Drive/dataset/skin/00000134.jpg',\n",
              " '00000135': '/content/drive/My Drive/dataset/skin/00000135.jpg',\n",
              " '00000136': '/content/drive/My Drive/dataset/skin/00000136.jpg',\n",
              " '00000137': '/content/drive/My Drive/dataset/skin/00000137.jpg',\n",
              " '00000138': '/content/drive/My Drive/dataset/skin/00000138.jpg',\n",
              " '00000140': '/content/drive/My Drive/dataset/skin/00000140.jpg',\n",
              " '00000141': '/content/drive/My Drive/dataset/skin/00000141.jpg',\n",
              " '00000142': '/content/drive/My Drive/dataset/skin/00000142.jpg',\n",
              " '00000143': '/content/drive/My Drive/dataset/skin/00000143.jpg',\n",
              " '00000145': '/content/drive/My Drive/dataset/skin/00000145.jpg',\n",
              " '00000146': '/content/drive/My Drive/dataset/skin/00000146.jpg',\n",
              " '00000147': '/content/drive/My Drive/dataset/skin/00000147.jpg',\n",
              " '00000148': '/content/drive/My Drive/dataset/skin/00000148.jpg',\n",
              " '00000149': '/content/drive/My Drive/dataset/skin/00000149.jpg',\n",
              " '00000150': '/content/drive/My Drive/dataset/skin/00000150.jpg',\n",
              " '00000151': '/content/drive/My Drive/dataset/skin/00000151.jpg',\n",
              " '00000152': '/content/drive/My Drive/dataset/skin/00000152.jpg',\n",
              " '00000153': '/content/drive/My Drive/dataset/skin/00000153.jpg',\n",
              " '00000154': '/content/drive/My Drive/dataset/skin/00000154.jpg',\n",
              " '00000155': '/content/drive/My Drive/dataset/skin/00000155.jpg',\n",
              " '00000158': '/content/drive/My Drive/dataset/skin/00000158.jpg',\n",
              " '00000159': '/content/drive/My Drive/dataset/skin/00000159.jpg',\n",
              " '00000160': '/content/drive/My Drive/dataset/skin/00000160.jpg',\n",
              " '00000161': '/content/drive/My Drive/dataset/skin/00000161.jpg',\n",
              " '00000162': '/content/drive/My Drive/dataset/skin/00000162.jpg',\n",
              " '00000163': '/content/drive/My Drive/dataset/skin/00000163.jpg',\n",
              " '00000164': '/content/drive/My Drive/dataset/skin/00000164.jpg',\n",
              " '00000165': '/content/drive/My Drive/dataset/skin/00000165.jpg',\n",
              " '00000166': '/content/drive/My Drive/dataset/skin/00000166.jpg',\n",
              " '00000167': '/content/drive/My Drive/dataset/skin/00000167.jpg',\n",
              " '00000168': '/content/drive/My Drive/dataset/skin/00000168.jpg',\n",
              " '00000169': '/content/drive/My Drive/dataset/skin/00000169.jpg',\n",
              " '00000170': '/content/drive/My Drive/dataset/skin/00000170.jpg',\n",
              " '00000171': '/content/drive/My Drive/dataset/skin/00000171.jpg',\n",
              " '00000172': '/content/drive/My Drive/dataset/skin/00000172.jpg',\n",
              " '00000173': '/content/drive/My Drive/dataset/skin/00000173.jpg',\n",
              " '00000174': '/content/drive/My Drive/dataset/skin/00000174.jpg',\n",
              " '00000175': '/content/drive/My Drive/dataset/skin/00000175.jpg',\n",
              " '00000176': '/content/drive/My Drive/dataset/skin/00000176.jpg',\n",
              " '00000177': '/content/drive/My Drive/dataset/skin/00000177.jpg',\n",
              " '00000178': '/content/drive/My Drive/dataset/skin/00000178.jpg',\n",
              " '00000179': '/content/drive/My Drive/dataset/skin/00000179.jpg',\n",
              " '00000180': '/content/drive/My Drive/dataset/skin/00000180.jpg',\n",
              " '00000181': '/content/drive/My Drive/dataset/skin/00000181.jpg',\n",
              " '00000182': '/content/drive/My Drive/dataset/skin/00000182.jpg',\n",
              " '00000183': '/content/drive/My Drive/dataset/skin/00000183.jpg',\n",
              " '00000184': '/content/drive/My Drive/dataset/skin/00000184.jpg',\n",
              " '00000185': '/content/drive/My Drive/dataset/skin/00000185.jpg',\n",
              " '00000186': '/content/drive/My Drive/dataset/skin/00000186.jpg',\n",
              " '00000187': '/content/drive/My Drive/dataset/skin/00000187.jpg',\n",
              " '00000188': '/content/drive/My Drive/dataset/skin/00000188.jpg',\n",
              " '00000189': '/content/drive/My Drive/dataset/skin/00000189.jpg',\n",
              " '00000190': '/content/drive/My Drive/dataset/skin/00000190.jpg',\n",
              " '00000191': '/content/drive/My Drive/dataset/skin/00000191.jpg',\n",
              " '00000192': '/content/drive/My Drive/dataset/skin/00000192.jpg',\n",
              " '00000193': '/content/drive/My Drive/dataset/skin/00000193.jpg',\n",
              " '00000195': '/content/drive/My Drive/dataset/skin/00000195.jpg',\n",
              " '00000196': '/content/drive/My Drive/dataset/skin/00000196.jpg',\n",
              " '00000197': '/content/drive/My Drive/dataset/skin/00000197.jpg',\n",
              " '00000198': '/content/drive/My Drive/dataset/skin/00000198.jpg',\n",
              " '00000199': '/content/drive/My Drive/dataset/skin/00000199.jpg',\n",
              " '00000200': '/content/drive/My Drive/dataset/skin/00000200.jpg',\n",
              " '00000201': '/content/drive/My Drive/dataset/skin/00000201.jpg',\n",
              " '00000206': '/content/drive/My Drive/dataset/not_skin/00000206.jpg',\n",
              " '00000207': '/content/drive/My Drive/dataset/not_skin/00000207.jpg',\n",
              " '00000208': '/content/drive/My Drive/dataset/not_skin/00000208.jpg',\n",
              " '00000209': '/content/drive/My Drive/dataset/not_skin/00000209.jpg',\n",
              " '00000212': '/content/drive/My Drive/dataset/not_skin/00000212.jpg',\n",
              " '00000216': '/content/drive/My Drive/dataset/not_skin/00000216.jpg',\n",
              " '00000217': '/content/drive/My Drive/dataset/not_skin/00000217.jpg',\n",
              " '00000218': '/content/drive/My Drive/dataset/not_skin/00000218.jpg',\n",
              " '00000221': '/content/drive/My Drive/dataset/not_skin/00000221.jpg',\n",
              " '00000222': '/content/drive/My Drive/dataset/not_skin/00000222.jpg',\n",
              " '00000223': '/content/drive/My Drive/dataset/not_skin/00000223.jpg'}"
            ]
          },
          "metadata": {
            "tags": []
          },
          "execution_count": 15
        }
      ]
    },
    {
      "cell_type": "code",
      "metadata": {
        "id": "HLfhLfvocLXv",
        "colab_type": "code",
        "outputId": "d4d9125d-f7bf-4f4f-db0a-cbd9b0172543",
        "colab": {
          "base_uri": "https://localhost:8080/",
          "height": 204
        }
      },
      "source": [
        "import pandas as pd\n",
        "import numpy as np\n",
        "df = pd.DataFrame.from_dict(imageid_path_dict, orient='index', columns=['image_paths'])\n",
        "df = df.reset_index(drop=True)\n",
        "df['label'] = 0\n",
        "df['label'] = df['image_paths'].str.extract(r'dataset\\W(\\w+)\\W')\n",
        "# Create column lesion_code to store lesion codes\n",
        "df['lesion_code'] = pd.Categorical(df['label']).codes\n",
        "df.head()"
      ],
      "execution_count": 0,
      "outputs": [
        {
          "output_type": "execute_result",
          "data": {
            "text/html": [
              "<div>\n",
              "<style scoped>\n",
              "    .dataframe tbody tr th:only-of-type {\n",
              "        vertical-align: middle;\n",
              "    }\n",
              "\n",
              "    .dataframe tbody tr th {\n",
              "        vertical-align: top;\n",
              "    }\n",
              "\n",
              "    .dataframe thead th {\n",
              "        text-align: right;\n",
              "    }\n",
              "</style>\n",
              "<table border=\"1\" class=\"dataframe\">\n",
              "  <thead>\n",
              "    <tr style=\"text-align: right;\">\n",
              "      <th></th>\n",
              "      <th>image_paths</th>\n",
              "      <th>label</th>\n",
              "      <th>lesion_code</th>\n",
              "    </tr>\n",
              "  </thead>\n",
              "  <tbody>\n",
              "    <tr>\n",
              "      <th>0</th>\n",
              "      <td>/content/drive/My Drive/dataset/skin/00000002.jpg</td>\n",
              "      <td>skin</td>\n",
              "      <td>1</td>\n",
              "    </tr>\n",
              "    <tr>\n",
              "      <th>1</th>\n",
              "      <td>/content/drive/My Drive/dataset/skin/00000003.jpg</td>\n",
              "      <td>skin</td>\n",
              "      <td>1</td>\n",
              "    </tr>\n",
              "    <tr>\n",
              "      <th>2</th>\n",
              "      <td>/content/drive/My Drive/dataset/skin/00000004.jpg</td>\n",
              "      <td>skin</td>\n",
              "      <td>1</td>\n",
              "    </tr>\n",
              "    <tr>\n",
              "      <th>3</th>\n",
              "      <td>/content/drive/My Drive/dataset/skin/00000005.jpg</td>\n",
              "      <td>skin</td>\n",
              "      <td>1</td>\n",
              "    </tr>\n",
              "    <tr>\n",
              "      <th>4</th>\n",
              "      <td>/content/drive/My Drive/dataset/skin/00000006.jpg</td>\n",
              "      <td>skin</td>\n",
              "      <td>1</td>\n",
              "    </tr>\n",
              "  </tbody>\n",
              "</table>\n",
              "</div>"
            ],
            "text/plain": [
              "                                         image_paths label  lesion_code\n",
              "0  /content/drive/My Drive/dataset/skin/00000002.jpg  skin            1\n",
              "1  /content/drive/My Drive/dataset/skin/00000003.jpg  skin            1\n",
              "2  /content/drive/My Drive/dataset/skin/00000004.jpg  skin            1\n",
              "3  /content/drive/My Drive/dataset/skin/00000005.jpg  skin            1\n",
              "4  /content/drive/My Drive/dataset/skin/00000006.jpg  skin            1"
            ]
          },
          "metadata": {
            "tags": []
          },
          "execution_count": 16
        }
      ]
    },
    {
      "cell_type": "code",
      "metadata": {
        "id": "kXmNfJ4AhSKi",
        "colab_type": "code",
        "colab": {}
      },
      "source": [
        "#y = df.pop('label').to_frame()\n",
        "#X = df"
      ],
      "execution_count": 0,
      "outputs": []
    },
    {
      "cell_type": "code",
      "metadata": {
        "colab_type": "code",
        "id": "FbNpi_ZIrVBS",
        "colab": {}
      },
      "source": [
        "from sklearn.model_selection import train_test_split\n",
        "train_val, test = train_test_split(df, test_size=0.1)"
      ],
      "execution_count": 0,
      "outputs": []
    },
    {
      "cell_type": "code",
      "metadata": {
        "id": "vN2LgWAOrZ-c",
        "colab_type": "code",
        "colab": {}
      },
      "source": [
        "train, val = train_test_split(train_val, test_size=0.1) #stratify=train_val['label']"
      ],
      "execution_count": 0,
      "outputs": []
    },
    {
      "cell_type": "code",
      "metadata": {
        "id": "VFO-Rs01skuk",
        "colab_type": "code",
        "outputId": "1ff8fd0b-b425-4bac-f876-56293d4cc760",
        "colab": {
          "base_uri": "https://localhost:8080/",
          "height": 68
        }
      },
      "source": [
        "# Get the number of images per lesion\n",
        "train['label'].value_counts()"
      ],
      "execution_count": 0,
      "outputs": [
        {
          "output_type": "execute_result",
          "data": {
            "text/plain": [
              "skin        137\n",
              "not_skin     21\n",
              "Name: label, dtype: int64"
            ]
          },
          "metadata": {
            "tags": []
          },
          "execution_count": 20
        }
      ]
    },
    {
      "cell_type": "code",
      "metadata": {
        "id": "j6uXichty2Uf",
        "colab_type": "code",
        "outputId": "5df1b65c-d715-43f9-e2ab-0d8f09cb2930",
        "colab": {
          "base_uri": "https://localhost:8080/",
          "height": 111
        }
      },
      "source": [
        "# Calculate the augmentation rate\n",
        "b_df = pd.Series.to_frame(train['label'].value_counts())\n",
        "b_df['rate'] = round(b_df['label'].max()/b_df['label'])\n",
        "b_df['rate'] = b_df['rate'].replace(1, 0)  # 0 augmentation for the max value\n",
        "b_df = b_df.sort_index()\n",
        "b_df = b_df.astype(int, errors='ignore')\n",
        "b_df['w_augmentation'] = b_df['label'] * b_df['rate']\n",
        "b_df"
      ],
      "execution_count": 0,
      "outputs": [
        {
          "output_type": "execute_result",
          "data": {
            "text/html": [
              "<div>\n",
              "<style scoped>\n",
              "    .dataframe tbody tr th:only-of-type {\n",
              "        vertical-align: middle;\n",
              "    }\n",
              "\n",
              "    .dataframe tbody tr th {\n",
              "        vertical-align: top;\n",
              "    }\n",
              "\n",
              "    .dataframe thead th {\n",
              "        text-align: right;\n",
              "    }\n",
              "</style>\n",
              "<table border=\"1\" class=\"dataframe\">\n",
              "  <thead>\n",
              "    <tr style=\"text-align: right;\">\n",
              "      <th></th>\n",
              "      <th>label</th>\n",
              "      <th>rate</th>\n",
              "      <th>w_augmentation</th>\n",
              "    </tr>\n",
              "  </thead>\n",
              "  <tbody>\n",
              "    <tr>\n",
              "      <th>not_skin</th>\n",
              "      <td>21</td>\n",
              "      <td>7</td>\n",
              "      <td>147</td>\n",
              "    </tr>\n",
              "    <tr>\n",
              "      <th>skin</th>\n",
              "      <td>137</td>\n",
              "      <td>0</td>\n",
              "      <td>0</td>\n",
              "    </tr>\n",
              "  </tbody>\n",
              "</table>\n",
              "</div>"
            ],
            "text/plain": [
              "          label  rate  w_augmentation\n",
              "not_skin     21     7             147\n",
              "skin        137     0               0"
            ]
          },
          "metadata": {
            "tags": []
          },
          "execution_count": 21
        }
      ]
    },
    {
      "cell_type": "code",
      "metadata": {
        "id": "qk9zXGxHzLuf",
        "colab_type": "code",
        "outputId": "1a4fe963-ae80-4df2-e956-31c26073830c",
        "colab": {
          "base_uri": "https://localhost:8080/",
          "height": 68
        }
      },
      "source": [
        "# Oversample (copy images from) the minority classes to balance the number of 8 classes\n",
        "data_aug_rate = list(b_df.rate)\n",
        "for i in range(1): # number of classes minus 1\n",
        "    if data_aug_rate[i]:\n",
        "        train = train.append([train.loc[train['lesion_code'] == i,:]]*(data_aug_rate[i]-1), ignore_index=True)\n",
        "\n",
        "        # Balanced classes\n",
        "train['label'].value_counts()"
      ],
      "execution_count": 0,
      "outputs": [
        {
          "output_type": "execute_result",
          "data": {
            "text/plain": [
              "not_skin    147\n",
              "skin        137\n",
              "Name: label, dtype: int64"
            ]
          },
          "metadata": {
            "tags": []
          },
          "execution_count": 22
        }
      ]
    },
    {
      "cell_type": "code",
      "metadata": {
        "id": "XFPv4BZ25dqM",
        "colab_type": "code",
        "outputId": "f3e8dbe3-5518-463e-9508-b04724589653",
        "colab": {
          "base_uri": "https://localhost:8080/",
          "height": 204
        }
      },
      "source": [
        "train.head()"
      ],
      "execution_count": 0,
      "outputs": [
        {
          "output_type": "execute_result",
          "data": {
            "text/html": [
              "<div>\n",
              "<style scoped>\n",
              "    .dataframe tbody tr th:only-of-type {\n",
              "        vertical-align: middle;\n",
              "    }\n",
              "\n",
              "    .dataframe tbody tr th {\n",
              "        vertical-align: top;\n",
              "    }\n",
              "\n",
              "    .dataframe thead th {\n",
              "        text-align: right;\n",
              "    }\n",
              "</style>\n",
              "<table border=\"1\" class=\"dataframe\">\n",
              "  <thead>\n",
              "    <tr style=\"text-align: right;\">\n",
              "      <th></th>\n",
              "      <th>image_paths</th>\n",
              "      <th>label</th>\n",
              "      <th>lesion_code</th>\n",
              "    </tr>\n",
              "  </thead>\n",
              "  <tbody>\n",
              "    <tr>\n",
              "      <th>0</th>\n",
              "      <td>/content/drive/My Drive/dataset/skin/00000187.jpg</td>\n",
              "      <td>skin</td>\n",
              "      <td>1</td>\n",
              "    </tr>\n",
              "    <tr>\n",
              "      <th>1</th>\n",
              "      <td>/content/drive/My Drive/dataset/skin/00000091.jpg</td>\n",
              "      <td>skin</td>\n",
              "      <td>1</td>\n",
              "    </tr>\n",
              "    <tr>\n",
              "      <th>2</th>\n",
              "      <td>/content/drive/My Drive/dataset/skin/00000154.jpg</td>\n",
              "      <td>skin</td>\n",
              "      <td>1</td>\n",
              "    </tr>\n",
              "    <tr>\n",
              "      <th>3</th>\n",
              "      <td>/content/drive/My Drive/dataset/not_skin/00000...</td>\n",
              "      <td>not_skin</td>\n",
              "      <td>0</td>\n",
              "    </tr>\n",
              "    <tr>\n",
              "      <th>4</th>\n",
              "      <td>/content/drive/My Drive/dataset/skin/00000093.jpg</td>\n",
              "      <td>skin</td>\n",
              "      <td>1</td>\n",
              "    </tr>\n",
              "  </tbody>\n",
              "</table>\n",
              "</div>"
            ],
            "text/plain": [
              "                                         image_paths     label  lesion_code\n",
              "0  /content/drive/My Drive/dataset/skin/00000187.jpg      skin            1\n",
              "1  /content/drive/My Drive/dataset/skin/00000091.jpg      skin            1\n",
              "2  /content/drive/My Drive/dataset/skin/00000154.jpg      skin            1\n",
              "3  /content/drive/My Drive/dataset/not_skin/00000...  not_skin            0\n",
              "4  /content/drive/My Drive/dataset/skin/00000093.jpg      skin            1"
            ]
          },
          "metadata": {
            "tags": []
          },
          "execution_count": 43
        }
      ]
    },
    {
      "cell_type": "code",
      "metadata": {
        "id": "6p3oegoq5fUk",
        "colab_type": "code",
        "outputId": "2dea85c1-8600-4459-9942-329a3d04cd54",
        "colab": {
          "base_uri": "https://localhost:8080/",
          "height": 204
        }
      },
      "source": [
        "val.head()"
      ],
      "execution_count": 0,
      "outputs": [
        {
          "output_type": "execute_result",
          "data": {
            "text/html": [
              "<div>\n",
              "<style scoped>\n",
              "    .dataframe tbody tr th:only-of-type {\n",
              "        vertical-align: middle;\n",
              "    }\n",
              "\n",
              "    .dataframe tbody tr th {\n",
              "        vertical-align: top;\n",
              "    }\n",
              "\n",
              "    .dataframe thead th {\n",
              "        text-align: right;\n",
              "    }\n",
              "</style>\n",
              "<table border=\"1\" class=\"dataframe\">\n",
              "  <thead>\n",
              "    <tr style=\"text-align: right;\">\n",
              "      <th></th>\n",
              "      <th>image_paths</th>\n",
              "      <th>label</th>\n",
              "      <th>lesion_code</th>\n",
              "    </tr>\n",
              "  </thead>\n",
              "  <tbody>\n",
              "    <tr>\n",
              "      <th>138</th>\n",
              "      <td>/content/drive/My Drive/dataset/skin/00000076.jpg</td>\n",
              "      <td>skin</td>\n",
              "      <td>1</td>\n",
              "    </tr>\n",
              "    <tr>\n",
              "      <th>98</th>\n",
              "      <td>/content/drive/My Drive/dataset/skin/00000182.jpg</td>\n",
              "      <td>skin</td>\n",
              "      <td>1</td>\n",
              "    </tr>\n",
              "    <tr>\n",
              "      <th>170</th>\n",
              "      <td>/content/drive/My Drive/dataset/skin/00000161.jpg</td>\n",
              "      <td>skin</td>\n",
              "      <td>1</td>\n",
              "    </tr>\n",
              "    <tr>\n",
              "      <th>132</th>\n",
              "      <td>/content/drive/My Drive/dataset/skin/00000045.jpg</td>\n",
              "      <td>skin</td>\n",
              "      <td>1</td>\n",
              "    </tr>\n",
              "    <tr>\n",
              "      <th>48</th>\n",
              "      <td>/content/drive/My Drive/dataset/skin/00000078.jpg</td>\n",
              "      <td>skin</td>\n",
              "      <td>1</td>\n",
              "    </tr>\n",
              "  </tbody>\n",
              "</table>\n",
              "</div>"
            ],
            "text/plain": [
              "                                           image_paths label  lesion_code\n",
              "138  /content/drive/My Drive/dataset/skin/00000076.jpg  skin            1\n",
              "98   /content/drive/My Drive/dataset/skin/00000182.jpg  skin            1\n",
              "170  /content/drive/My Drive/dataset/skin/00000161.jpg  skin            1\n",
              "132  /content/drive/My Drive/dataset/skin/00000045.jpg  skin            1\n",
              "48   /content/drive/My Drive/dataset/skin/00000078.jpg  skin            1"
            ]
          },
          "metadata": {
            "tags": []
          },
          "execution_count": 44
        }
      ]
    },
    {
      "cell_type": "code",
      "metadata": {
        "id": "Xsdv4eUu0lxE",
        "colab_type": "code",
        "colab": {}
      },
      "source": [
        "import torch\n",
        "from torch.utils.data import DataLoader,Dataset\n",
        "from PIL import Image\n",
        "\n",
        "# Define a pytorch dataloader for this dataset\n",
        "class ISIC2019(Dataset):\n",
        "    def __init__(self, df, transform=None):\n",
        "        self.df = df\n",
        "        self.transform = transform\n",
        "\n",
        "    def __len__(self):\n",
        "        return len(self.df)\n",
        "\n",
        "    def __getitem__(self, index):\n",
        "        # Load data and get label\n",
        "        X = Image.open(self.df['image_paths'][index])\n",
        "        y = torch.tensor(int(self.df['lesion_code'][index]))\n",
        "\n",
        "        if self.transform:\n",
        "            X = self.transform(X)\n",
        "\n",
        "        return X, y"
      ],
      "execution_count": 0,
      "outputs": []
    },
    {
      "cell_type": "code",
      "metadata": {
        "id": "7kes9LrS0uG9",
        "colab_type": "code",
        "outputId": "4c8690ad-b369-47e0-92c4-1de27f079c3a",
        "colab": {
          "base_uri": "https://localhost:8080/",
          "height": 449
        }
      },
      "source": [
        "import matplotlib.pyplot as plt\n",
        "from torchvision import models,transforms\n",
        "# Code to visualize and decide data parameters\n",
        "lesions = ISIC2019(train)\n",
        "\n",
        "image, label = next(iter(lesions))\n",
        "\n",
        "# Plot the original image\n",
        "fig = plt.figure()\n",
        "plt.imshow(image)\n",
        "plt.title('Original')\n",
        "\n",
        "# Transformations\n",
        "resize = transforms.Resize(112)\n",
        "crop = transforms.CenterCrop((112,112))\n",
        "flip = transforms.RandomHorizontalFlip()\n",
        "\n",
        "# Plot the image after the transformations\n",
        "f = plt.figure(figsize=(10,10))\n",
        "for i,tsfrm in enumerate([resize,crop,flip]):\n",
        "  image = tsfrm(image)\n",
        "  ax = f.add_subplot(1, 4, i + 1)\n",
        "  ax.set_title(type(tsfrm).__name__)\n",
        "  plt.imshow(image)"
      ],
      "execution_count": 0,
      "outputs": [
        {
          "output_type": "display_data",
          "data": {
            "image/png": "[encoded data removed]",
            "text/plain": [
              "<Figure size 432x288 with 1 Axes>"
            ]
          },
          "metadata": {
            "tags": []
          }
        },
        {
          "output_type": "display_data",
          "data": {
            "image/png": "[encoded data removed]",
            "text/plain": [
              "<Figure size 720x720 with 3 Axes>"
            ]
          },
          "metadata": {
            "tags": []
          }
        }
      ]
    },
    {
      "cell_type": "code",
      "metadata": {
        "id": "O0G1ePcd1zGF",
        "colab_type": "code",
        "colab": {}
      },
      "source": [
        "# ImageNet statistics\n",
        "mean = [0.485, 0.456, 0.406] \n",
        "std = [0.229, 0.224, 0.225]\n",
        "\n",
        "# Define the transformation of the train images.\n",
        "train_transform_600 = transforms.Compose([transforms.Resize(600),\n",
        "                                      transforms.CenterCrop((600,600)),\n",
        "                                      transforms.RandomHorizontalFlip(),\n",
        "                                      transforms.ToTensor(),\n",
        "                                      transforms.Normalize(mean, std)])\n",
        "# Define the transformation of the validation images.\n",
        "val_transform_600 = transforms.Compose([transforms.Resize(600),\n",
        "                                      transforms.CenterCrop((600,600)),\n",
        "                                      transforms.ToTensor(),\n",
        "                                      transforms.Normalize(mean, std)])"
      ],
      "execution_count": 0,
      "outputs": []
    },
    {
      "cell_type": "code",
      "metadata": {
        "id": "WMnZwIb42Ck5",
        "colab_type": "code",
        "colab": {}
      },
      "source": [
        "# Define the training sets\n",
        "training_set_600 = ISIC2019(train, transform=train_transform_600)\n",
        "\n",
        "# Define the validation set\n",
        "val_set_600 = ISIC2019(val, transform=val_transform_600)"
      ],
      "execution_count": 0,
      "outputs": []
    },
    {
      "cell_type": "code",
      "metadata": {
        "id": "hcHoQxNr2Ki4",
        "colab_type": "code",
        "colab": {}
      },
      "source": [
        "\n",
        "# Model to be used for training\n",
        "class PretrainedModel_600(nn.Module):\n",
        "    def __init__(self,output_features):\n",
        "        super().__init__()\n",
        "        model = EfficientNet.from_pretrained('efficientnet-b7')\n",
        "        num_ftrs = model._fc.in_features\n",
        "        model._fc = nn.Linear(num_ftrs, output_features)\n",
        "        self.model = model\n",
        "            \n",
        "    def forward(self, x):\n",
        "        x = self.model(x)\n",
        "        return x"
      ],
      "execution_count": 0,
      "outputs": []
    },
    {
      "cell_type": "code",
      "metadata": {
        "id": "9oPRB8Y52guv",
        "colab_type": "code",
        "outputId": "a65f7597-3f9f-487e-fc33-de9d9d84ad36",
        "colab": {
          "base_uri": "https://localhost:8080/",
          "height": 34
        }
      },
      "source": [
        "# Data for Net 600\n",
        "%%timeit\n",
        "train_loader_600 = DataLoader(training_set_600, batch_size=10,shuffle=True, num_workers=2)\n",
        "X,y = next(iter(train_loader_600))\n",
        "X,y = X.numpy(),y.numpy() # assuming X and y are torch.Tensor\n",
        "X,y = X.astype('float32'), y.astype('int64')"
      ],
      "execution_count": 0,
      "outputs": [
        {
          "output_type": "stream",
          "text": [
            "1 loop, best of 3: 1.06 s per loop\n"
          ],
          "name": "stdout"
        }
      ]
    },
    {
      "cell_type": "code",
      "metadata": {
        "id": "0psolreQ7WUi",
        "colab_type": "code",
        "outputId": "5bfa875f-ce69-4a7c-99fc-ce5e0a7232db",
        "colab": {
          "base_uri": "https://localhost:8080/",
          "height": 1000
        }
      },
      "source": [
        "# Data for Net 600\n",
        "%%timeit\n",
        "val_loader_600 = DataLoader(val_set_600, batch_size=10,shuffle=True, num_workers=2)\n",
        "X,y = next(iter(val_loader_600))\n",
        "X,y = X.numpy(),y.numpy() # assuming X and y are torch.Tensor\n",
        "X,y = X.astype('float32'), y.astype('int64')"
      ],
      "execution_count": 0,
      "outputs": [
        {
          "output_type": "error",
          "ename": "KeyError",
          "evalue": "ignored",
          "traceback": [
            "\u001b[0;31m---------------------------------------------------------------------------\u001b[0m",
            "\u001b[0;31mKeyError\u001b[0m                                  Traceback (most recent call last)",
            "\u001b[0;32m<ipython-input-53-f379ef7f4266>\u001b[0m in \u001b[0;36m<module>\u001b[0;34m()\u001b[0m\n\u001b[0;32m----> 1\u001b[0;31m \u001b[0mget_ipython\u001b[0m\u001b[0;34m(\u001b[0m\u001b[0;34m)\u001b[0m\u001b[0;34m.\u001b[0m\u001b[0mrun_cell_magic\u001b[0m\u001b[0;34m(\u001b[0m\u001b[0;34m'timeit'\u001b[0m\u001b[0;34m,\u001b[0m \u001b[0;34m''\u001b[0m\u001b[0;34m,\u001b[0m \u001b[0;34m\"val_loader_600 = DataLoader(val_set_600, batch_size=10,shuffle=True, num_workers=2)\\nX,y = next(iter(val_loader_600))\\nX,y = X.numpy(),y.numpy() # assuming X and y are torch.Tensor\\nX,y = X.astype('float32'), y.astype('int64')\"\u001b[0m\u001b[0;34m)\u001b[0m\u001b[0;34m\u001b[0m\u001b[0;34m\u001b[0m\u001b[0m\n\u001b[0m",
            "\u001b[0;32m/usr/local/lib/python3.6/dist-packages/IPython/core/interactiveshell.py\u001b[0m in \u001b[0;36mrun_cell_magic\u001b[0;34m(self, magic_name, line, cell)\u001b[0m\n\u001b[1;32m   2115\u001b[0m             \u001b[0mmagic_arg_s\u001b[0m \u001b[0;34m=\u001b[0m \u001b[0mself\u001b[0m\u001b[0;34m.\u001b[0m\u001b[0mvar_expand\u001b[0m\u001b[0;34m(\u001b[0m\u001b[0mline\u001b[0m\u001b[0;34m,\u001b[0m \u001b[0mstack_depth\u001b[0m\u001b[0;34m)\u001b[0m\u001b[0;34m\u001b[0m\u001b[0;34m\u001b[0m\u001b[0m\n\u001b[1;32m   2116\u001b[0m             \u001b[0;32mwith\u001b[0m \u001b[0mself\u001b[0m\u001b[0;34m.\u001b[0m\u001b[0mbuiltin_trap\u001b[0m\u001b[0;34m:\u001b[0m\u001b[0;34m\u001b[0m\u001b[0;34m\u001b[0m\u001b[0m\n\u001b[0;32m-> 2117\u001b[0;31m                 \u001b[0mresult\u001b[0m \u001b[0;34m=\u001b[0m \u001b[0mfn\u001b[0m\u001b[0;34m(\u001b[0m\u001b[0mmagic_arg_s\u001b[0m\u001b[0;34m,\u001b[0m \u001b[0mcell\u001b[0m\u001b[0;34m)\u001b[0m\u001b[0;34m\u001b[0m\u001b[0;34m\u001b[0m\u001b[0m\n\u001b[0m\u001b[1;32m   2118\u001b[0m             \u001b[0;32mreturn\u001b[0m \u001b[0mresult\u001b[0m\u001b[0;34m\u001b[0m\u001b[0;34m\u001b[0m\u001b[0m\n\u001b[1;32m   2119\u001b[0m \u001b[0;34m\u001b[0m\u001b[0m\n",
            "\u001b[0;32m</usr/local/lib/python3.6/dist-packages/decorator.py:decorator-gen-59>\u001b[0m in \u001b[0;36mtimeit\u001b[0;34m(self, line, cell)\u001b[0m\n",
            "\u001b[0;32m/usr/local/lib/python3.6/dist-packages/IPython/core/magic.py\u001b[0m in \u001b[0;36m<lambda>\u001b[0;34m(f, *a, **k)\u001b[0m\n\u001b[1;32m    186\u001b[0m     \u001b[0;31m# but it's overkill for just that one bit of state.\u001b[0m\u001b[0;34m\u001b[0m\u001b[0;34m\u001b[0m\u001b[0;34m\u001b[0m\u001b[0m\n\u001b[1;32m    187\u001b[0m     \u001b[0;32mdef\u001b[0m \u001b[0mmagic_deco\u001b[0m\u001b[0;34m(\u001b[0m\u001b[0marg\u001b[0m\u001b[0;34m)\u001b[0m\u001b[0;34m:\u001b[0m\u001b[0;34m\u001b[0m\u001b[0;34m\u001b[0m\u001b[0m\n\u001b[0;32m--> 188\u001b[0;31m         \u001b[0mcall\u001b[0m \u001b[0;34m=\u001b[0m \u001b[0;32mlambda\u001b[0m \u001b[0mf\u001b[0m\u001b[0;34m,\u001b[0m \u001b[0;34m*\u001b[0m\u001b[0ma\u001b[0m\u001b[0;34m,\u001b[0m \u001b[0;34m**\u001b[0m\u001b[0mk\u001b[0m\u001b[0;34m:\u001b[0m \u001b[0mf\u001b[0m\u001b[0;34m(\u001b[0m\u001b[0;34m*\u001b[0m\u001b[0ma\u001b[0m\u001b[0;34m,\u001b[0m \u001b[0;34m**\u001b[0m\u001b[0mk\u001b[0m\u001b[0;34m)\u001b[0m\u001b[0;34m\u001b[0m\u001b[0;34m\u001b[0m\u001b[0m\n\u001b[0m\u001b[1;32m    189\u001b[0m \u001b[0;34m\u001b[0m\u001b[0m\n\u001b[1;32m    190\u001b[0m         \u001b[0;32mif\u001b[0m \u001b[0mcallable\u001b[0m\u001b[0;34m(\u001b[0m\u001b[0marg\u001b[0m\u001b[0;34m)\u001b[0m\u001b[0;34m:\u001b[0m\u001b[0;34m\u001b[0m\u001b[0;34m\u001b[0m\u001b[0m\n",
            "\u001b[0;32m/usr/local/lib/python3.6/dist-packages/IPython/core/magics/execution.py\u001b[0m in \u001b[0;36mtimeit\u001b[0;34m(self, line, cell)\u001b[0m\n\u001b[1;32m   1055\u001b[0m             \u001b[0mnumber\u001b[0m \u001b[0;34m=\u001b[0m \u001b[0;36m1\u001b[0m\u001b[0;34m\u001b[0m\u001b[0;34m\u001b[0m\u001b[0m\n\u001b[1;32m   1056\u001b[0m             \u001b[0;32mfor\u001b[0m \u001b[0m_\u001b[0m \u001b[0;32min\u001b[0m \u001b[0mrange\u001b[0m\u001b[0;34m(\u001b[0m\u001b[0;36m1\u001b[0m\u001b[0;34m,\u001b[0m \u001b[0;36m10\u001b[0m\u001b[0;34m)\u001b[0m\u001b[0;34m:\u001b[0m\u001b[0;34m\u001b[0m\u001b[0;34m\u001b[0m\u001b[0m\n\u001b[0;32m-> 1057\u001b[0;31m                 \u001b[0mtime_number\u001b[0m \u001b[0;34m=\u001b[0m \u001b[0mtimer\u001b[0m\u001b[0;34m.\u001b[0m\u001b[0mtimeit\u001b[0m\u001b[0;34m(\u001b[0m\u001b[0mnumber\u001b[0m\u001b[0;34m)\u001b[0m\u001b[0;34m\u001b[0m\u001b[0;34m\u001b[0m\u001b[0m\n\u001b[0m\u001b[1;32m   1058\u001b[0m                 \u001b[0mworst_tuning\u001b[0m \u001b[0;34m=\u001b[0m \u001b[0mmax\u001b[0m\u001b[0;34m(\u001b[0m\u001b[0mworst_tuning\u001b[0m\u001b[0;34m,\u001b[0m \u001b[0mtime_number\u001b[0m \u001b[0;34m/\u001b[0m \u001b[0mnumber\u001b[0m\u001b[0;34m)\u001b[0m\u001b[0;34m\u001b[0m\u001b[0;34m\u001b[0m\u001b[0m\n\u001b[1;32m   1059\u001b[0m                 \u001b[0;32mif\u001b[0m \u001b[0mtime_number\u001b[0m \u001b[0;34m>=\u001b[0m \u001b[0;36m0.2\u001b[0m\u001b[0;34m:\u001b[0m\u001b[0;34m\u001b[0m\u001b[0;34m\u001b[0m\u001b[0m\n",
            "\u001b[0;32m/usr/local/lib/python3.6/dist-packages/IPython/core/magics/execution.py\u001b[0m in \u001b[0;36mtimeit\u001b[0;34m(self, number)\u001b[0m\n\u001b[1;32m    137\u001b[0m         \u001b[0mgc\u001b[0m\u001b[0;34m.\u001b[0m\u001b[0mdisable\u001b[0m\u001b[0;34m(\u001b[0m\u001b[0;34m)\u001b[0m\u001b[0;34m\u001b[0m\u001b[0;34m\u001b[0m\u001b[0m\n\u001b[1;32m    138\u001b[0m         \u001b[0;32mtry\u001b[0m\u001b[0;34m:\u001b[0m\u001b[0;34m\u001b[0m\u001b[0;34m\u001b[0m\u001b[0m\n\u001b[0;32m--> 139\u001b[0;31m             \u001b[0mtiming\u001b[0m \u001b[0;34m=\u001b[0m \u001b[0mself\u001b[0m\u001b[0;34m.\u001b[0m\u001b[0minner\u001b[0m\u001b[0;34m(\u001b[0m\u001b[0mit\u001b[0m\u001b[0;34m,\u001b[0m \u001b[0mself\u001b[0m\u001b[0;34m.\u001b[0m\u001b[0mtimer\u001b[0m\u001b[0;34m)\u001b[0m\u001b[0;34m\u001b[0m\u001b[0;34m\u001b[0m\u001b[0m\n\u001b[0m\u001b[1;32m    140\u001b[0m         \u001b[0;32mfinally\u001b[0m\u001b[0;34m:\u001b[0m\u001b[0;34m\u001b[0m\u001b[0;34m\u001b[0m\u001b[0m\n\u001b[1;32m    141\u001b[0m             \u001b[0;32mif\u001b[0m \u001b[0mgcold\u001b[0m\u001b[0;34m:\u001b[0m\u001b[0;34m\u001b[0m\u001b[0;34m\u001b[0m\u001b[0m\n",
            "\u001b[0;32m<magic-timeit>\u001b[0m in \u001b[0;36minner\u001b[0;34m(_it, _timer)\u001b[0m\n",
            "\u001b[0;32m/usr/local/lib/python3.6/dist-packages/torch/utils/data/dataloader.py\u001b[0m in \u001b[0;36m__next__\u001b[0;34m(self)\u001b[0m\n\u001b[1;32m    343\u001b[0m \u001b[0;34m\u001b[0m\u001b[0m\n\u001b[1;32m    344\u001b[0m     \u001b[0;32mdef\u001b[0m \u001b[0m__next__\u001b[0m\u001b[0;34m(\u001b[0m\u001b[0mself\u001b[0m\u001b[0;34m)\u001b[0m\u001b[0;34m:\u001b[0m\u001b[0;34m\u001b[0m\u001b[0;34m\u001b[0m\u001b[0m\n\u001b[0;32m--> 345\u001b[0;31m         \u001b[0mdata\u001b[0m \u001b[0;34m=\u001b[0m \u001b[0mself\u001b[0m\u001b[0;34m.\u001b[0m\u001b[0m_next_data\u001b[0m\u001b[0;34m(\u001b[0m\u001b[0;34m)\u001b[0m\u001b[0;34m\u001b[0m\u001b[0;34m\u001b[0m\u001b[0m\n\u001b[0m\u001b[1;32m    346\u001b[0m         \u001b[0mself\u001b[0m\u001b[0;34m.\u001b[0m\u001b[0m_num_yielded\u001b[0m \u001b[0;34m+=\u001b[0m \u001b[0;36m1\u001b[0m\u001b[0;34m\u001b[0m\u001b[0;34m\u001b[0m\u001b[0m\n\u001b[1;32m    347\u001b[0m         \u001b[0;32mif\u001b[0m \u001b[0mself\u001b[0m\u001b[0;34m.\u001b[0m\u001b[0m_dataset_kind\u001b[0m \u001b[0;34m==\u001b[0m \u001b[0m_DatasetKind\u001b[0m\u001b[0;34m.\u001b[0m\u001b[0mIterable\u001b[0m \u001b[0;32mand\u001b[0m\u001b[0;31m \u001b[0m\u001b[0;31m\\\u001b[0m\u001b[0;34m\u001b[0m\u001b[0;34m\u001b[0m\u001b[0m\n",
            "\u001b[0;32m/usr/local/lib/python3.6/dist-packages/torch/utils/data/dataloader.py\u001b[0m in \u001b[0;36m_next_data\u001b[0;34m(self)\u001b[0m\n\u001b[1;32m    854\u001b[0m             \u001b[0;32melse\u001b[0m\u001b[0;34m:\u001b[0m\u001b[0;34m\u001b[0m\u001b[0;34m\u001b[0m\u001b[0m\n\u001b[1;32m    855\u001b[0m                 \u001b[0;32mdel\u001b[0m \u001b[0mself\u001b[0m\u001b[0;34m.\u001b[0m\u001b[0m_task_info\u001b[0m\u001b[0;34m[\u001b[0m\u001b[0midx\u001b[0m\u001b[0;34m]\u001b[0m\u001b[0;34m\u001b[0m\u001b[0;34m\u001b[0m\u001b[0m\n\u001b[0;32m--> 856\u001b[0;31m                 \u001b[0;32mreturn\u001b[0m \u001b[0mself\u001b[0m\u001b[0;34m.\u001b[0m\u001b[0m_process_data\u001b[0m\u001b[0;34m(\u001b[0m\u001b[0mdata\u001b[0m\u001b[0;34m)\u001b[0m\u001b[0;34m\u001b[0m\u001b[0;34m\u001b[0m\u001b[0m\n\u001b[0m\u001b[1;32m    857\u001b[0m \u001b[0;34m\u001b[0m\u001b[0m\n\u001b[1;32m    858\u001b[0m     \u001b[0;32mdef\u001b[0m \u001b[0m_try_put_index\u001b[0m\u001b[0;34m(\u001b[0m\u001b[0mself\u001b[0m\u001b[0;34m)\u001b[0m\u001b[0;34m:\u001b[0m\u001b[0;34m\u001b[0m\u001b[0;34m\u001b[0m\u001b[0m\n",
            "\u001b[0;32m/usr/local/lib/python3.6/dist-packages/torch/utils/data/dataloader.py\u001b[0m in \u001b[0;36m_process_data\u001b[0;34m(self, data)\u001b[0m\n\u001b[1;32m    879\u001b[0m         \u001b[0mself\u001b[0m\u001b[0;34m.\u001b[0m\u001b[0m_try_put_index\u001b[0m\u001b[0;34m(\u001b[0m\u001b[0;34m)\u001b[0m\u001b[0;34m\u001b[0m\u001b[0;34m\u001b[0m\u001b[0m\n\u001b[1;32m    880\u001b[0m         \u001b[0;32mif\u001b[0m \u001b[0misinstance\u001b[0m\u001b[0;34m(\u001b[0m\u001b[0mdata\u001b[0m\u001b[0;34m,\u001b[0m \u001b[0mExceptionWrapper\u001b[0m\u001b[0;34m)\u001b[0m\u001b[0;34m:\u001b[0m\u001b[0;34m\u001b[0m\u001b[0;34m\u001b[0m\u001b[0m\n\u001b[0;32m--> 881\u001b[0;31m             \u001b[0mdata\u001b[0m\u001b[0;34m.\u001b[0m\u001b[0mreraise\u001b[0m\u001b[0;34m(\u001b[0m\u001b[0;34m)\u001b[0m\u001b[0;34m\u001b[0m\u001b[0;34m\u001b[0m\u001b[0m\n\u001b[0m\u001b[1;32m    882\u001b[0m         \u001b[0;32mreturn\u001b[0m \u001b[0mdata\u001b[0m\u001b[0;34m\u001b[0m\u001b[0;34m\u001b[0m\u001b[0m\n\u001b[1;32m    883\u001b[0m \u001b[0;34m\u001b[0m\u001b[0m\n",
            "\u001b[0;32m/usr/local/lib/python3.6/dist-packages/torch/_utils.py\u001b[0m in \u001b[0;36mreraise\u001b[0;34m(self)\u001b[0m\n\u001b[1;32m    392\u001b[0m             \u001b[0;31m# (https://bugs.python.org/issue2651), so we work around it.\u001b[0m\u001b[0;34m\u001b[0m\u001b[0;34m\u001b[0m\u001b[0;34m\u001b[0m\u001b[0m\n\u001b[1;32m    393\u001b[0m             \u001b[0mmsg\u001b[0m \u001b[0;34m=\u001b[0m \u001b[0mKeyErrorMessage\u001b[0m\u001b[0;34m(\u001b[0m\u001b[0mmsg\u001b[0m\u001b[0;34m)\u001b[0m\u001b[0;34m\u001b[0m\u001b[0;34m\u001b[0m\u001b[0m\n\u001b[0;32m--> 394\u001b[0;31m         \u001b[0;32mraise\u001b[0m \u001b[0mself\u001b[0m\u001b[0;34m.\u001b[0m\u001b[0mexc_type\u001b[0m\u001b[0;34m(\u001b[0m\u001b[0mmsg\u001b[0m\u001b[0;34m)\u001b[0m\u001b[0;34m\u001b[0m\u001b[0;34m\u001b[0m\u001b[0m\n\u001b[0m",
            "\u001b[0;31mKeyError\u001b[0m: Caught KeyError in DataLoader worker process 0.\nOriginal Traceback (most recent call last):\n  File \"/usr/local/lib/python3.6/dist-packages/torch/utils/data/_utils/worker.py\", line 178, in _worker_loop\n    data = fetcher.fetch(index)\n  File \"/usr/local/lib/python3.6/dist-packages/torch/utils/data/_utils/fetch.py\", line 44, in fetch\n    data = [self.dataset[idx] for idx in possibly_batched_index]\n  File \"/usr/local/lib/python3.6/dist-packages/torch/utils/data/_utils/fetch.py\", line 44, in <listcomp>\n    data = [self.dataset[idx] for idx in possibly_batched_index]\n  File \"<ipython-input-24-063aaa7a6ae5>\", line 16, in __getitem__\n    X = Image.open(self.df['image_paths'][index])\n  File \"/usr/local/lib/python3.6/dist-packages/pandas/core/series.py\", line 1071, in __getitem__\n    result = self.index.get_value(self, key)\n  File \"/usr/local/lib/python3.6/dist-packages/pandas/core/indexes/base.py\", line 4730, in get_value\n    return self._engine.get_value(s, k, tz=getattr(series.dtype, \"tz\", None))\n  File \"pandas/_libs/index.pyx\", line 80, in pandas._libs.index.IndexEngine.get_value\n  File \"pandas/_libs/index.pyx\", line 88, in pandas._libs.index.IndexEngine.get_value\n  File \"pandas/_libs/index.pyx\", line 131, in pandas._libs.index.IndexEngine.get_loc\n  File \"pandas/_libs/hashtable_class_helper.pxi\", line 992, in pandas._libs.hashtable.Int64HashTable.get_item\n  File \"pandas/_libs/hashtable_class_helper.pxi\", line 998, in pandas._libs.hashtable.Int64HashTable.get_item\nKeyError: 3\n"
          ]
        }
      ]
    },
    {
      "cell_type": "code",
      "metadata": {
        "id": "raL3m3ES3UoB",
        "colab_type": "code",
        "colab": {}
      },
      "source": [
        "# Hyperparameter search for Net600"
      ],
      "execution_count": 0,
      "outputs": []
    },
    {
      "cell_type": "code",
      "metadata": {
        "id": "5sPtRoubrlm4",
        "colab_type": "code",
        "colab": {}
      },
      "source": [
        "y_train = train.pop('label').to_frame()\n",
        "X_train = train\n",
        "\n",
        "y_val = val.pop('label').to_frame()\n",
        "X_val = val\n",
        "\n",
        "y_test = test.pop('label').to_frame()\n",
        "X_test = test\n"
      ],
      "execution_count": 0,
      "outputs": []
    },
    {
      "cell_type": "code",
      "metadata": {
        "id": "rYWF9FEEig2k",
        "colab_type": "code",
        "colab": {}
      },
      "source": [
        "print(X_train.shape)\n",
        "print(y_train.shape)\n",
        "print(X_val.shape)\n",
        "print(y_val.shape)\n",
        "print(X_test.shape)\n",
        "print(y_test.shape)"
      ],
      "execution_count": 0,
      "outputs": []
    }
  ]
}
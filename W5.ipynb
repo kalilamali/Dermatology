{
  "nbformat": 4,
  "nbformat_minor": 0,
  "metadata": {
    "colab": {
      "name": "W5.ipynb",
      "provenance": [],
      "collapsed_sections": [],
      "authorship_tag": "ABX9TyN2s/4E1BZOtut7eSgRsQg1"
    },
    "kernelspec": {
      "name": "python3",
      "display_name": "Python 3"
    },
    "accelerator": "GPU",
    "widgets": {
      "application/vnd.jupyter.widget-state+json": {
        "f3215603c77b46a08171dc13cfd28ca5": {
          "model_module": "@jupyter-widgets/controls",
          "model_name": "HBoxModel",
          "state": {
            "_view_name": "HBoxView",
            "_dom_classes": [],
            "_model_name": "HBoxModel",
            "_view_module": "@jupyter-widgets/controls",
            "_model_module_version": "1.5.0",
            "_view_count": null,
            "_view_module_version": "1.5.0",
            "box_style": "",
            "layout": "IPY_MODEL_c12bbf6db8b843679e9f66aa5e43f972",
            "_model_module": "@jupyter-widgets/controls",
            "children": [
              "IPY_MODEL_654e4059d9204102b33ca6de71a3235c",
              "IPY_MODEL_19da79b59bd94f81bec2f222198b52b7"
            ]
          }
        },
        "c12bbf6db8b843679e9f66aa5e43f972": {
          "model_module": "@jupyter-widgets/base",
          "model_name": "LayoutModel",
          "state": {
            "_view_name": "LayoutView",
            "grid_template_rows": null,
            "right": null,
            "justify_content": null,
            "_view_module": "@jupyter-widgets/base",
            "overflow": null,
            "_model_module_version": "1.2.0",
            "_view_count": null,
            "flex_flow": null,
            "width": null,
            "min_width": null,
            "border": null,
            "align_items": null,
            "bottom": null,
            "_model_module": "@jupyter-widgets/base",
            "top": null,
            "grid_column": null,
            "overflow_y": null,
            "overflow_x": null,
            "grid_auto_flow": null,
            "grid_area": null,
            "grid_template_columns": null,
            "flex": null,
            "_model_name": "LayoutModel",
            "justify_items": null,
            "grid_row": null,
            "max_height": null,
            "align_content": null,
            "visibility": null,
            "align_self": null,
            "height": null,
            "min_height": null,
            "padding": null,
            "grid_auto_rows": null,
            "grid_gap": null,
            "max_width": null,
            "order": null,
            "_view_module_version": "1.2.0",
            "grid_template_areas": null,
            "object_position": null,
            "object_fit": null,
            "grid_auto_columns": null,
            "margin": null,
            "display": null,
            "left": null
          }
        },
        "654e4059d9204102b33ca6de71a3235c": {
          "model_module": "@jupyter-widgets/controls",
          "model_name": "IntProgressModel",
          "state": {
            "_view_name": "ProgressView",
            "style": "IPY_MODEL_61149e11eab647b88aec5e5684b3764c",
            "_dom_classes": [],
            "description": "",
            "_model_name": "IntProgressModel",
            "bar_style": "success",
            "max": 21388428,
            "_view_module": "@jupyter-widgets/controls",
            "_model_module_version": "1.5.0",
            "value": 21388428,
            "_view_count": null,
            "_view_module_version": "1.5.0",
            "orientation": "horizontal",
            "min": 0,
            "description_tooltip": null,
            "_model_module": "@jupyter-widgets/controls",
            "layout": "IPY_MODEL_f82f6085b75e4969b11bc87b30a6a049"
          }
        },
        "19da79b59bd94f81bec2f222198b52b7": {
          "model_module": "@jupyter-widgets/controls",
          "model_name": "HTMLModel",
          "state": {
            "_view_name": "HTMLView",
            "style": "IPY_MODEL_fe44b828f4894931aa79b914ab688891",
            "_dom_classes": [],
            "description": "",
            "_model_name": "HTMLModel",
            "placeholder": "​",
            "_view_module": "@jupyter-widgets/controls",
            "_model_module_version": "1.5.0",
            "value": "100% 20.4M/20.4M [00:00&lt;00:00, 89.8MB/s]",
            "_view_count": null,
            "_view_module_version": "1.5.0",
            "description_tooltip": null,
            "_model_module": "@jupyter-widgets/controls",
            "layout": "IPY_MODEL_cbd7181558434b4cae9eec8e1a451788"
          }
        },
        "61149e11eab647b88aec5e5684b3764c": {
          "model_module": "@jupyter-widgets/controls",
          "model_name": "ProgressStyleModel",
          "state": {
            "_view_name": "StyleView",
            "_model_name": "ProgressStyleModel",
            "description_width": "",
            "_view_module": "@jupyter-widgets/base",
            "_model_module_version": "1.5.0",
            "_view_count": null,
            "_view_module_version": "1.2.0",
            "bar_color": null,
            "_model_module": "@jupyter-widgets/controls"
          }
        },
        "f82f6085b75e4969b11bc87b30a6a049": {
          "model_module": "@jupyter-widgets/base",
          "model_name": "LayoutModel",
          "state": {
            "_view_name": "LayoutView",
            "grid_template_rows": null,
            "right": null,
            "justify_content": null,
            "_view_module": "@jupyter-widgets/base",
            "overflow": null,
            "_model_module_version": "1.2.0",
            "_view_count": null,
            "flex_flow": null,
            "width": null,
            "min_width": null,
            "border": null,
            "align_items": null,
            "bottom": null,
            "_model_module": "@jupyter-widgets/base",
            "top": null,
            "grid_column": null,
            "overflow_y": null,
            "overflow_x": null,
            "grid_auto_flow": null,
            "grid_area": null,
            "grid_template_columns": null,
            "flex": null,
            "_model_name": "LayoutModel",
            "justify_items": null,
            "grid_row": null,
            "max_height": null,
            "align_content": null,
            "visibility": null,
            "align_self": null,
            "height": null,
            "min_height": null,
            "padding": null,
            "grid_auto_rows": null,
            "grid_gap": null,
            "max_width": null,
            "order": null,
            "_view_module_version": "1.2.0",
            "grid_template_areas": null,
            "object_position": null,
            "object_fit": null,
            "grid_auto_columns": null,
            "margin": null,
            "display": null,
            "left": null
          }
        },
        "fe44b828f4894931aa79b914ab688891": {
          "model_module": "@jupyter-widgets/controls",
          "model_name": "DescriptionStyleModel",
          "state": {
            "_view_name": "StyleView",
            "_model_name": "DescriptionStyleModel",
            "description_width": "",
            "_view_module": "@jupyter-widgets/base",
            "_model_module_version": "1.5.0",
            "_view_count": null,
            "_view_module_version": "1.2.0",
            "_model_module": "@jupyter-widgets/controls"
          }
        },
        "cbd7181558434b4cae9eec8e1a451788": {
          "model_module": "@jupyter-widgets/base",
          "model_name": "LayoutModel",
          "state": {
            "_view_name": "LayoutView",
            "grid_template_rows": null,
            "right": null,
            "justify_content": null,
            "_view_module": "@jupyter-widgets/base",
            "overflow": null,
            "_model_module_version": "1.2.0",
            "_view_count": null,
            "flex_flow": null,
            "width": null,
            "min_width": null,
            "border": null,
            "align_items": null,
            "bottom": null,
            "_model_module": "@jupyter-widgets/base",
            "top": null,
            "grid_column": null,
            "overflow_y": null,
            "overflow_x": null,
            "grid_auto_flow": null,
            "grid_area": null,
            "grid_template_columns": null,
            "flex": null,
            "_model_name": "LayoutModel",
            "justify_items": null,
            "grid_row": null,
            "max_height": null,
            "align_content": null,
            "visibility": null,
            "align_self": null,
            "height": null,
            "min_height": null,
            "padding": null,
            "grid_auto_rows": null,
            "grid_gap": null,
            "max_width": null,
            "order": null,
            "_view_module_version": "1.2.0",
            "grid_template_areas": null,
            "object_position": null,
            "object_fit": null,
            "grid_auto_columns": null,
            "margin": null,
            "display": null,
            "left": null
          }
        }
      }
    }
  },
  "cells": [
    {
      "cell_type": "code",
      "metadata": {
        "id": "rOoJ93kwtUK4",
        "colab_type": "code",
        "outputId": "7ea5b995-2672-4214-be04-048781a6fb0b",
        "colab": {
          "base_uri": "https://localhost:8080/",
          "height": 122
        }
      },
      "source": [
        "from google.colab import drive\n",
        "drive.mount('/content/drive')"
      ],
      "execution_count": 1,
      "outputs": [
        {
          "output_type": "stream",
          "text": [
            "Go to this URL in a browser: https://accounts.google.com/o/oauth2/auth?client_id=947318989803-6bn6qk8qdgf4n4g3pfee6491hc0brc4i.apps.googleusercontent.com&redirect_uri=urn%3aietf%3awg%3aoauth%3a2.0%3aoob&response_type=code&scope=email%20https%3a%2f%2fwww.googleapis.com%2fauth%2fdocs.test%20https%3a%2f%2fwww.googleapis.com%2fauth%2fdrive%20https%3a%2f%2fwww.googleapis.com%2fauth%2fdrive.photos.readonly%20https%3a%2f%2fwww.googleapis.com%2fauth%2fpeopleapi.readonly\n",
            "\n",
            "Enter your authorization code:\n",
            "··········\n",
            "Mounted at /content/drive\n"
          ],
          "name": "stdout"
        }
      ]
    },
    {
      "cell_type": "code",
      "metadata": {
        "id": "RbjfhdUOthqx",
        "colab_type": "code",
        "outputId": "dea2080e-5835-43ef-abda-97ebc73eedac",
        "colab": {
          "base_uri": "https://localhost:8080/",
          "height": 51
        }
      },
      "source": [
        "% cd './drive/My Drive/'\n",
        "% ls"
      ],
      "execution_count": 2,
      "outputs": [
        {
          "output_type": "stream",
          "text": [
            "/content/drive/My Drive\n",
            "\u001b[0m\u001b[01;34m'Colab Notebooks'\u001b[0m/   \u001b[01;34mdermatology\u001b[0m/   \u001b[01;34mskin\u001b[0m/\n"
          ],
          "name": "stdout"
        }
      ]
    },
    {
      "cell_type": "code",
      "metadata": {
        "id": "El-8KqRfuLE2",
        "colab_type": "code",
        "colab": {}
      },
      "source": [
        "import os\n",
        "import pandas as pd\n",
        "\n",
        "from glob import glob\n",
        "from sklearn.model_selection import train_test_split\n",
        "\n",
        "def data_split(data_dir='/content/drive/My Drive/skin'):\n",
        "  \"\"\" Splits images in data_dir into\n",
        "  train, val, test\n",
        "  80,20,20\n",
        "  \"\"\"\n",
        "  filenames = glob(os.path.join(data_dir, '*','*.jpg'))\n",
        "  df = pd.DataFrame(data=filenames, columns=['filenames'])\n",
        "  df['label'] = df['filenames'].str.extract(r'skin\\W(\\w+)\\W')\n",
        "  df['label_code'] = pd.Categorical(df['label']).codes\n",
        "\n",
        "  train_val, test = train_test_split(df, test_size=0.2, random_state=42)\n",
        "  train_val, test = train_val.reset_index(drop=True), test.reset_index(drop=True)\n",
        "  train, val = train_test_split(train_val, test_size=0.2, random_state=42)\n",
        "  train, val = train.reset_index(drop=True), val.reset_index(drop=True)\n",
        "\n",
        "  return train, val, test"
      ],
      "execution_count": 0,
      "outputs": []
    },
    {
      "cell_type": "code",
      "metadata": {
        "id": "SzkrzllfEux7",
        "colab_type": "code",
        "colab": {}
      },
      "source": [
        "#def data_split(\n",
        "    \"\"\" Splits images in data_dir into\n",
        "train, val, test\n",
        "80,20,20\n",
        "\"\"\"\n",
        "train_val, test = train_test_split(df, test_size=0.2, random_state=42)\n",
        "train_val, test = train_val.reset_index(drop=True), test.reset_index(drop=True)\n",
        "train, val = train_test_split(train_val, test_size=0.2, random_state=42)\n",
        "train, val = train.reset_index(drop=True), val.reset_index(drop=True)\n",
        "\n",
        "#return train, val, test"
      ],
      "execution_count": 0,
      "outputs": []
    },
    {
      "cell_type": "code",
      "metadata": {
        "id": "MmB2nSZy_3_I",
        "colab_type": "code",
        "colab": {}
      },
      "source": [
        "import os\n",
        "import pandas as pd\n",
        "from glob import glob\n",
        "\n",
        "def get_unknown_df(data_dir='/content/drive/My Drive/dermatology'):\n",
        "  filenames = glob(os.path.join(data_dir, '*', '*','*.jpg'))\n",
        "  df = pd.DataFrame(data=filenames, columns=['filenames'])\n",
        "  df['label_code'] = 3 #Label can NOT be NONE\n",
        "\n",
        "  return df"
      ],
      "execution_count": 0,
      "outputs": []
    },
    {
      "cell_type": "code",
      "metadata": {
        "id": "PtZ5LT5S1342",
        "colab_type": "code",
        "outputId": "d6fc37d5-ebbf-4274-fa0a-2be0ecba527b",
        "colab": {
          "base_uri": "https://localhost:8080/",
          "height": 224
        }
      },
      "source": [
        "! pip install torch\n",
        "! pip install efficientnet-pytorch\n",
        "\n",
        "import torch\n",
        "\n",
        "from efficientnet_pytorch import EfficientNet\n",
        "\n",
        "def mymodel(unfreeze=True, num_classes=2):\n",
        "  \"\"\"Unfreeze(True) all the model weights or freeze(False) the convolutional \n",
        "  layers only\n",
        "  \"\"\"\n",
        "  device = torch.device(\"cuda:0\" if torch.cuda.is_available() else \"cpu\")\n",
        "  model = EfficientNet.from_pretrained('efficientnet-b0', num_classes=num_classes)\n",
        "  model = model.to(device)\n",
        "  for param in model.parameters():\n",
        "    param.requires_grad = unfreeze\n",
        "  \n",
        "  return model"
      ],
      "execution_count": 5,
      "outputs": [
        {
          "output_type": "stream",
          "text": [
            "Requirement already satisfied: torch in /usr/local/lib/python3.6/dist-packages (1.4.0)\n",
            "Collecting efficientnet-pytorch\n",
            "  Downloading https://files.pythonhosted.org/packages/b8/cb/0309a6e3d404862ae4bc017f89645cf150ac94c14c88ef81d215c8e52925/efficientnet_pytorch-0.6.3.tar.gz\n",
            "Requirement already satisfied: torch in /usr/local/lib/python3.6/dist-packages (from efficientnet-pytorch) (1.4.0)\n",
            "Building wheels for collected packages: efficientnet-pytorch\n",
            "  Building wheel for efficientnet-pytorch (setup.py) ... \u001b[?25l\u001b[?25hdone\n",
            "  Created wheel for efficientnet-pytorch: filename=efficientnet_pytorch-0.6.3-cp36-none-any.whl size=12422 sha256=c2caef6faf2a6c4f5ffb6815aed5d6e804f81dc030654917e5696b973bcb7d15\n",
            "  Stored in directory: /root/.cache/pip/wheels/42/1e/a9/2a578ba9ad04e776e80bf0f70d8a7f4c29ec0718b92d8f6ccd\n",
            "Successfully built efficientnet-pytorch\n",
            "Installing collected packages: efficientnet-pytorch\n",
            "Successfully installed efficientnet-pytorch-0.6.3\n"
          ],
          "name": "stdout"
        }
      ]
    },
    {
      "cell_type": "code",
      "metadata": {
        "id": "vs4eO1ys5hbb",
        "colab_type": "code",
        "colab": {}
      },
      "source": [
        "def get_num_parameters(model):\n",
        "  \"\"\"Get the total number of parameters in a neural network\n",
        "  \"\"\"\n",
        "  total_params = sum(p.numel() for p in model.parameters())\n",
        "  total_trainable_params = sum(\n",
        "  p.numel() for p in model.parameters() if p.requires_grad)\n",
        "  \n",
        "  return total_params, total_trainable_params"
      ],
      "execution_count": 0,
      "outputs": []
    },
    {
      "cell_type": "code",
      "metadata": {
        "id": "LWB3JG5aHPQe",
        "colab_type": "code",
        "colab": {}
      },
      "source": [
        "import torchvision\n",
        "from torch.utils.data import DataLoader,Dataset\n",
        "from PIL import Image\n",
        "\n",
        "# Custom Pytorch dataloader for this dataset\n",
        "class Derm(Dataset):\n",
        "    \"\"\"Reads a pandas dataframe with the images paths\n",
        "    and labels\"\"\"\n",
        "    def __init__(self, df, transform=None):\n",
        "        self.df = df\n",
        "        self.transform = transform\n",
        "\n",
        "    def __len__(self):\n",
        "        return len(self.df)\n",
        "\n",
        "    def __getitem__(self, index):\n",
        "        # Load image data and get label\n",
        "        X = Image.open(self.df['filenames'][index]).convert('RGB')\n",
        "        y = torch.tensor(int(self.df['label_code'][index]))\n",
        "        \n",
        "        if self.transform:\n",
        "            X = self.transform(X)\n",
        "\n",
        "        return X, y"
      ],
      "execution_count": 0,
      "outputs": []
    },
    {
      "cell_type": "code",
      "metadata": {
        "id": "pnS69bZ9DryE",
        "colab_type": "code",
        "colab": {}
      },
      "source": [
        "from torchvision import transforms\n",
        "\n",
        "def get_loaders(size=224, batch_size=1,num_workers=1):\n",
        "    \n",
        "    mean = [0.485, 0.456, 0.406]\n",
        "    std = [0.229, 0.224, 0.225]\n",
        "\n",
        "    # Transforms\n",
        "    data_transforms = {x : transforms.Compose([transforms.Resize(size),\n",
        "                                              transforms.CenterCrop((size,size)),\n",
        "                                              transforms.ToTensor(),\n",
        "                                              transforms.Normalize(mean,std)]) for x in ['train', 'val', 'test', 'unknown']}\n",
        "\n",
        "    # Dataframes\n",
        "    df = {'train': train, 'val': val, 'test': test, 'unknown': unknown}                                    \n",
        "\n",
        "    # Datasets\n",
        "    image_datasets = {x: Derm(df[x], transform=data_transforms[x]) for x in ['train', 'val', 'test', 'unknown']}\n",
        "\n",
        "    # Dataloaders\n",
        "    dataloaders = {x: DataLoader(image_datasets[x], batch_size, num_workers) for x in ['train', 'val', 'test', 'unknown']}\n",
        "\n",
        "    dataset_sizes = {x: len(image_datasets[x]) for x in ['train', 'val', 'test', 'unknown']}\n",
        "    \n",
        "    return data_transforms, df, image_datasets, dataloaders, dataset_sizes"
      ],
      "execution_count": 0,
      "outputs": []
    },
    {
      "cell_type": "code",
      "metadata": {
        "id": "rsUnauRi3TmH",
        "colab_type": "code",
        "colab": {}
      },
      "source": [
        "#data = Derm(df['train'],transform=transforms.Compose([transforms.Resize(size),\n",
        "#                                           transforms.CenterCrop((size,size)),\n",
        "#                                           transforms.ToTensor()\n",
        "#                                           ,\n",
        "#                                           transforms.Normalize(mean,std)\n",
        "#                                           ]))\n",
        "#\n",
        "#X, y = next(iter(DataLoader(data,batch_size=4,shuffle=True,num_workers=4)))\n",
        "#print(X.shape)\n",
        "#print(X)"
      ],
      "execution_count": 0,
      "outputs": []
    },
    {
      "cell_type": "code",
      "metadata": {
        "id": "Npmpt4Xs8Pcz",
        "colab_type": "code",
        "colab": {}
      },
      "source": [
        "import time\n",
        "import copy\n",
        "\n",
        "def train_model(model, criterion, optimizer, num_epochs):\n",
        "    since = time.time()\n",
        "    best_model_wts = copy.deepcopy(model.state_dict())\n",
        "    best_acc = 0.0\n",
        "\n",
        "    for epoch in range(num_epochs):\n",
        "        print('Epoch {}/{}'.format(epoch, num_epochs - 1))\n",
        "        print('-' * 10)\n",
        "\n",
        "        # Each epoch has a training and validation phase\n",
        "        for phase in ['train','val']:\n",
        "            if phase == 'train':\n",
        "                model.train()  # Set model to training mode\n",
        "            else:\n",
        "                model.eval()   # Set model to evaluate mode\n",
        "\n",
        "            running_loss = 0.0\n",
        "            running_corrects = 0\n",
        "\n",
        "            # Iterate over data.\n",
        "            for inputs, labels in dataloaders[phase]:\n",
        "                inputs = inputs.to(device)\n",
        "                labels = labels.to(device)\n",
        "\n",
        "                # zero the parameter gradients\n",
        "                optimizer.zero_grad()\n",
        "\n",
        "                # forward\n",
        "                # track history if only in train\n",
        "                with torch.set_grad_enabled(phase == 'train'):\n",
        "                    outputs = model(inputs)\n",
        "                    _, preds = torch.max(outputs, 1)\n",
        "                    loss = criterion(outputs, labels)\n",
        "\n",
        "                    # backward + optimize only if in training phase\n",
        "                    if phase == 'train':\n",
        "                        loss.backward()\n",
        "                        optimizer.step()\n",
        "\n",
        "                # statistics\n",
        "                running_loss += loss.item() * inputs.size(0)\n",
        "                running_corrects += torch.sum(preds == labels.data)\n",
        "\n",
        "            epoch_loss = running_loss / dataset_sizes[phase]\n",
        "            epoch_acc = running_corrects.double() / dataset_sizes[phase]\n",
        "\n",
        "            print('{} Loss: {:.4f} Acc: {:.4f}'.format(\n",
        "                phase, epoch_loss, epoch_acc))\n",
        "\n",
        "            # deep copy the model\n",
        "            if phase == 'val' and epoch_acc > best_acc:\n",
        "                best_acc = epoch_acc\n",
        "                best_model_wts = copy.deepcopy(model.state_dict())\n",
        "        print()\n",
        "    time_elapsed = time.time() - since\n",
        "    print('Training complete in {:.0f}m {:.0f}s'.format(\n",
        "        time_elapsed // 60, time_elapsed % 60))\n",
        "    print('Best val Acc: {:4f}'.format(best_acc))\n",
        "    # load best model weights\n",
        "    model.load_state_dict(best_model_wts)\n",
        "\n",
        "    return model"
      ],
      "execution_count": 0,
      "outputs": []
    },
    {
      "cell_type": "code",
      "metadata": {
        "id": "CwPqucj5-nl1",
        "colab_type": "code",
        "colab": {}
      },
      "source": [
        "def predict_class(best_model, phase = 'test'):\n",
        "  \"\"\"Predict performance on the whole test set and predict class\n",
        "  on the unknown set\n",
        "  \"\"\"\n",
        "  if phase == 'test':\n",
        "    correct = 0\n",
        "    total = 0\n",
        "    with torch.no_grad():\n",
        "        for data in dataloaders[phase]:\n",
        "            images, labels = data\n",
        "            images = images.to(device)\n",
        "            labels = labels.to(device)\n",
        "            best_model = best_model.to(device)\n",
        "            outputs = best_model(images)\n",
        "            _, predicted = torch.max(outputs.data, 1)\n",
        "            total += labels.size(0)\n",
        "            correct += (predicted == labels).sum().item()\n",
        "\n",
        "    print('Accuracy of the network on the test images: %d %%' % (\n",
        "        100 * correct / total))\n",
        "  elif phase == 'unknown':\n",
        "    with torch.no_grad():\n",
        "        for data in dataloaders[phase]:\n",
        "            images, labels = data\n",
        "            images = images.to(device)\n",
        "            labels = labels.to(device)\n",
        "            best_model = best_model.to(device)\n",
        "            outputs = best_model(images)\n",
        "            _, predicted = torch.max(outputs.data, 1)\n",
        "    return outputs, predicted    "
      ],
      "execution_count": 0,
      "outputs": []
    },
    {
      "cell_type": "code",
      "metadata": {
        "id": "HxIIOFdtNpWf",
        "colab_type": "code",
        "outputId": "701d5e14-13b2-472f-92c2-947240d11dc0",
        "colab": {
          "base_uri": "https://localhost:8080/",
          "height": 120,
          "referenced_widgets": [
            "f3215603c77b46a08171dc13cfd28ca5",
            "c12bbf6db8b843679e9f66aa5e43f972",
            "654e4059d9204102b33ca6de71a3235c",
            "19da79b59bd94f81bec2f222198b52b7",
            "61149e11eab647b88aec5e5684b3764c",
            "f82f6085b75e4969b11bc87b30a6a049",
            "fe44b828f4894931aa79b914ab688891",
            "cbd7181558434b4cae9eec8e1a451788"
          ]
        }
      },
      "source": [
        "# Main\n",
        "import torch.optim as optim\n",
        "\n",
        "from torch import nn\n",
        "\n",
        "device = torch.device(\"cuda:0\" if torch.cuda.is_available() else \"cpu\")\n",
        "model = mymodel(unfreeze=True, num_classes=2)\n",
        "criterion = nn.CrossEntropyLoss()\n",
        "optimizer = optim.SGD(model.parameters(), lr=0.001, momentum=0.9)"
      ],
      "execution_count": 12,
      "outputs": [
        {
          "output_type": "stream",
          "text": [
            "Downloading: \"https://github.com/lukemelas/EfficientNet-PyTorch/releases/download/1.0/efficientnet-b0-355c32eb.pth\" to /root/.cache/torch/checkpoints/efficientnet-b0-355c32eb.pth\n"
          ],
          "name": "stderr"
        },
        {
          "output_type": "display_data",
          "data": {
            "application/vnd.jupyter.widget-view+json": {
              "model_id": "f3215603c77b46a08171dc13cfd28ca5",
              "version_minor": 0,
              "version_major": 2
            },
            "text/plain": [
              "HBox(children=(IntProgress(value=0, max=21388428), HTML(value='')))"
            ]
          },
          "metadata": {
            "tags": []
          }
        },
        {
          "output_type": "stream",
          "text": [
            "\n",
            "Loaded pretrained weights for efficientnet-b0\n"
          ],
          "name": "stdout"
        }
      ]
    },
    {
      "cell_type": "code",
      "metadata": {
        "id": "ccNdpzGBRtTF",
        "colab_type": "code",
        "outputId": "ca2fb75f-586d-4b77-d04d-d0a361ed25c8",
        "colab": {
          "base_uri": "https://localhost:8080/",
          "height": 561
        }
      },
      "source": [
        "# Main\n",
        "train, val, test = data_split(data_dir='/content/drive/My Drive/skin')\n",
        "unknown = get_unknown_df(data_dir='/content/drive/My Drive/dermatology')\n",
        "\n",
        "total_params, total_trainable_params = get_num_parameters(model)\n",
        "data_transforms, df, image_datasets, dataloaders, dataset_sizes = get_loaders(size=224, batch_size=4,num_workers=4)\n",
        "\n",
        "num_epochs = 5\n",
        "best_model = train_model(model, criterion, optimizer, num_epochs)\n",
        "predict_class(best_model, phase = 'test')\n",
        "predict_class(best_model, phase = 'unknown')"
      ],
      "execution_count": 13,
      "outputs": [
        {
          "output_type": "stream",
          "text": [
            "Epoch 0/4\n",
            "----------\n",
            "train Loss: 0.4310 Acc: 0.8112\n",
            "val Loss: 0.2731 Acc: 0.9681\n",
            "\n",
            "Epoch 1/4\n",
            "----------\n",
            "train Loss: 0.2347 Acc: 0.9388\n",
            "val Loss: 0.1904 Acc: 0.9787\n",
            "\n",
            "Epoch 2/4\n",
            "----------\n",
            "train Loss: 0.1916 Acc: 0.9335\n",
            "val Loss: 0.1626 Acc: 0.9574\n",
            "\n",
            "Epoch 3/4\n",
            "----------\n",
            "train Loss: 0.1462 Acc: 0.9495\n",
            "val Loss: 0.1540 Acc: 0.9468\n",
            "\n",
            "Epoch 4/4\n",
            "----------\n",
            "train Loss: 0.1594 Acc: 0.9468\n",
            "val Loss: 0.1332 Acc: 0.9574\n",
            "\n",
            "Training complete in 4m 17s\n",
            "Best val Acc: 0.978723\n",
            "Accuracy of the network on the test images: 97 %\n"
          ],
          "name": "stdout"
        },
        {
          "output_type": "execute_result",
          "data": {
            "text/plain": [
              "(tensor([[ 0.3060, -0.2082],\n",
              "         [ 1.4482, -1.0845],\n",
              "         [ 0.6593, -1.0635]], device='cuda:0'),\n",
              " tensor([0, 0, 0], device='cuda:0'))"
            ]
          },
          "metadata": {
            "tags": []
          },
          "execution_count": 13
        }
      ]
    },
    {
      "cell_type": "code",
      "metadata": {
        "id": "Uf34uAFQ5nZN",
        "colab_type": "code",
        "outputId": "21c4ebe6-8e8d-4f98-c830-8a9be506e1d6",
        "colab": {
          "base_uri": "https://localhost:8080/",
          "height": 153
        }
      },
      "source": [
        "# To print to log\n",
        "print('train', train.shape)\n",
        "print('test', test.shape)\n",
        "print('val', val.shape)\n",
        "print('unknown', unknown.shape)\n",
        "print(f'{total_params:,} total parameters.')\n",
        "print(f'{total_trainable_params:,} training parameters.')\n",
        "image, label = next(iter(dataloaders['train']))\n",
        "print(image.shape)\n",
        "print(label.shape)"
      ],
      "execution_count": 0,
      "outputs": [
        {
          "output_type": "stream",
          "text": [
            "train (183, 3)\n",
            "test (58, 3)\n",
            "val (46, 3)\n",
            "unknown (1, 2)\n",
            "4,010,110 total parameters.\n",
            "4,010,110 training parameters.\n",
            "torch.Size([4, 3, 224, 224])\n",
            "torch.Size([4])\n"
          ],
          "name": "stdout"
        }
      ]
    }
  ]
}
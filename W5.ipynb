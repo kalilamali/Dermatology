{
  "nbformat": 4,
  "nbformat_minor": 0,
  "metadata": {
    "colab": {
      "name": "W5.ipynb",
      "provenance": [],
      "collapsed_sections": [],
      "authorship_tag": "ABX9TyPGNxby7HyBmWRlnxdwAO9O",
      "include_colab_link": true
    },
    "kernelspec": {
      "name": "python3",
      "display_name": "Python 3"
    },
    "accelerator": "GPU"
  },
  "cells": [
    {
      "cell_type": "markdown",
      "metadata": {
        "id": "view-in-github",
        "colab_type": "text"
      },
      "source": [
        "<a href=\"https://colab.research.google.com/github/kalilamali/Dermatology/blob/master/W5.ipynb\" target=\"_parent\"><img src=\"https://colab.research.google.com/assets/colab-badge.svg\" alt=\"Open In Colab\"/></a>"
      ]
    },
    {
      "cell_type": "code",
      "metadata": {
        "id": "rOoJ93kwtUK4",
        "colab_type": "code",
        "outputId": "55473d2f-0f3e-4bc1-b33f-85e47f87ef4a",
        "colab": {
          "base_uri": "https://localhost:8080/",
          "height": 34
        }
      },
      "source": [
        "from google.colab import drive\n",
        "drive.mount('/content/drive')"
      ],
      "execution_count": 140,
      "outputs": [
        {
          "output_type": "stream",
          "text": [
            "Drive already mounted at /content/drive; to attempt to forcibly remount, call drive.mount(\"/content/drive\", force_remount=True).\n"
          ],
          "name": "stdout"
        }
      ]
    },
    {
      "cell_type": "code",
      "metadata": {
        "id": "RbjfhdUOthqx",
        "colab_type": "code",
        "outputId": "23ab4552-7285-4ba2-fb33-31f451d211cb",
        "colab": {
          "base_uri": "https://localhost:8080/",
          "height": 68
        }
      },
      "source": [
        "% cd './drive/My Drive/'\n",
        "% ls"
      ],
      "execution_count": 141,
      "outputs": [
        {
          "output_type": "stream",
          "text": [
            "[Errno 2] No such file or directory: './drive/My Drive/'\n",
            "/content/drive/My Drive\n",
            " best_net.pth  \u001b[0m\u001b[01;34m'Colab Notebooks'\u001b[0m/   \u001b[01;34mdermatology\u001b[0m/   \u001b[01;34mskin\u001b[0m/\n"
          ],
          "name": "stdout"
        }
      ]
    },
    {
      "cell_type": "code",
      "metadata": {
        "id": "j5SUkt3Yj3H4",
        "colab_type": "code",
        "outputId": "9db4117b-0cbd-4636-97b9-5fc4a89ba7d8",
        "colab": {
          "base_uri": "https://localhost:8080/",
          "height": 34
        }
      },
      "source": [
        "!pip install torch\n",
        "\n",
        "import random\n",
        "import os\n",
        "import numpy as np\n",
        "import torch\n",
        "\n",
        "def myseed(seed=42):\n",
        "    \"\"\"\n",
        "    Make results reproducible.\n",
        "    \"\"\"\n",
        "    random.seed(seed)\n",
        "    os.environ['PYTHONHASHSEED'] = str(seed)\n",
        "    np.random.seed(seed)\n",
        "    torch.manual_seed(seed)\n",
        "    torch.cuda.manual_seed(seed)\n",
        "    torch.backends.cudnn.deterministic = True"
      ],
      "execution_count": 142,
      "outputs": [
        {
          "output_type": "stream",
          "text": [
            "Requirement already satisfied: torch in /usr/local/lib/python3.6/dist-packages (1.4.0)\n"
          ],
          "name": "stdout"
        }
      ]
    },
    {
      "cell_type": "code",
      "metadata": {
        "id": "El-8KqRfuLE2",
        "colab_type": "code",
        "colab": {}
      },
      "source": [
        "import os\n",
        "import pandas as pd\n",
        "\n",
        "from glob import glob\n",
        "\n",
        "def load_data(data_dir='/content/drive/My Drive/skin'):\n",
        "    \"\"\" \n",
        "    Find .jpg files and create a dataframe.\n",
        "    \"\"\"\n",
        "    \n",
        "    filenames = glob(os.path.join(data_dir, '*','*.jpg'))\n",
        "    if len(filenames) == 0:\n",
        "      filenames = glob(os.path.join(data_dir, '*', '*','*.jpg'))\n",
        "\n",
        "    df = pd.DataFrame(data=filenames, columns=['filenames'])\n",
        "    df['label'] = df['filenames'].str.extract(r'skin\\W(\\w+)\\W')\n",
        "    try:\n",
        "      df['label'] = df['label'].astype('category')\n",
        "      mapping = dict(enumerate(df['label'].cat.categories ))\n",
        "    except AttributeError as err:\n",
        "      mapping = ''\n",
        "    df['label_code'] = pd.Categorical(df['label']).codes\n",
        "    return df, mapping"
      ],
      "execution_count": 0,
      "outputs": []
    },
    {
      "cell_type": "code",
      "metadata": {
        "id": "SzkrzllfEux7",
        "colab_type": "code",
        "colab": {}
      },
      "source": [
        "from sklearn.model_selection import train_test_split\n",
        "def data_split(df):\n",
        "    \"\"\" \n",
        "    Split images in data_dir into\n",
        "    train, val, test\n",
        "    80,20,20\n",
        "    \"\"\"\n",
        "    seed = 42\n",
        "    train_val, test = train_test_split(df, test_size=0.2, random_state=seed)\n",
        "    train_val, test = train_val.reset_index(drop=True), test.reset_index(drop=True)\n",
        "    train, val = train_test_split(train_val, test_size=0.2, random_state=seed)\n",
        "    train, val = train.reset_index(drop=True), val.reset_index(drop=True)\n",
        "    return train, val, test"
      ],
      "execution_count": 0,
      "outputs": []
    },
    {
      "cell_type": "code",
      "metadata": {
        "id": "2NuOxWflloIv",
        "colab_type": "code",
        "colab": {}
      },
      "source": [
        "import torchvision\n",
        "from torch.utils.data import DataLoader,Dataset\n",
        "from PIL import Image\n",
        "\n",
        "from torchvision import transforms\n",
        "\n",
        "def get_loaders(size=100, batch_size=1, num_workers=1):\n",
        "    \"\"\"\n",
        "    Put data into the dataloaders.\n",
        "    \"\"\"\n",
        "    # Custom Pytorch dataloader for this dataset\n",
        "    class Derm(Dataset):\n",
        "        \"\"\"\n",
        "        Read a pandas dataframe with\n",
        "        images paths and labels\n",
        "        \"\"\"\n",
        "        def __init__(self, df, transform=None):\n",
        "            self.df = df\n",
        "            self.transform = transform\n",
        "\n",
        "        def __len__(self):\n",
        "            return len(self.df)\n",
        "\n",
        "        def __getitem__(self, index):\n",
        "            # Load image data and get label\n",
        "            X = Image.open(self.df['filenames'][index]).convert('RGB')\n",
        "            y = torch.tensor(int(self.df['label_code'][index]))\n",
        "            \n",
        "            if self.transform:\n",
        "                X = self.transform(X)\n",
        "\n",
        "            return X, y\n",
        "\n",
        "    mean = [0.485, 0.456, 0.406]\n",
        "    std = [0.229, 0.224, 0.225]\n",
        "\n",
        "    # Transforms\n",
        "    data_transforms = {x : transforms.Compose([transforms.Resize(size),\n",
        "                                              transforms.CenterCrop((size,size)),\n",
        "                                              transforms.ToTensor(),\n",
        "                                              transforms.Normalize(mean,std)]) for x in ['train', 'val', 'test', 'unknown']}\n",
        "      \n",
        "    # Frames\n",
        "    df = {'train': train, 'val': val, 'test': test, 'unknown': unknown}                                    \n",
        "    # Sets\n",
        "    image_datasets = {x: Derm(df[x], transform=data_transforms[x]) for x in ['train', 'val', 'test', 'unknown']}\n",
        "    # Sizes\n",
        "    dataset_sizes = {x: len(image_datasets[x]) for x in ['train', 'val', 'test', 'unknown']}\n",
        "    # Loaders\n",
        "    dataloaders = {x: DataLoader(image_datasets[x], batch_size, num_workers) for x in ['train', 'val', 'test', 'unknown']}\n",
        "    return data_transforms, df, image_datasets, dataloaders, dataset_sizes"
      ],
      "execution_count": 0,
      "outputs": []
    },
    {
      "cell_type": "code",
      "metadata": {
        "id": "PtZ5LT5S1342",
        "colab_type": "code",
        "outputId": "4195b412-b975-432f-ffe5-4d8802c4d2e3",
        "colab": {
          "base_uri": "https://localhost:8080/",
          "height": 105
        }
      },
      "source": [
        "! pip install torch\n",
        "! pip install efficientnet-pytorch\n",
        "\n",
        "import torch\n",
        "\n",
        "from efficientnet_pytorch import EfficientNet\n",
        "'''\n",
        "def mymodel(unfreeze=True, num_classes=2):\n",
        "  \"\"\"\n",
        "  Unfreeze(True) all the model weights or freeze(False) the convolutional \n",
        "  layers only\n",
        "  \"\"\"\n",
        "  device = torch.device(\"cuda:0\" if torch.cuda.is_available() else \"cpu\")\n",
        "  model = EfficientNet.from_pretrained('efficientnet-b0', num_classes=num_classes)\n",
        "  model = model.to(device)\n",
        "  for param in model.parameters():\n",
        "    param.requires_grad = unfreeze\n",
        "  return net\n",
        "'''"
      ],
      "execution_count": 146,
      "outputs": [
        {
          "output_type": "stream",
          "text": [
            "Requirement already satisfied: torch in /usr/local/lib/python3.6/dist-packages (1.4.0)\n",
            "Requirement already satisfied: efficientnet-pytorch in /usr/local/lib/python3.6/dist-packages (0.6.3)\n",
            "Requirement already satisfied: torch in /usr/local/lib/python3.6/dist-packages (from efficientnet-pytorch) (1.4.0)\n"
          ],
          "name": "stdout"
        },
        {
          "output_type": "execute_result",
          "data": {
            "text/plain": [
              "'\\ndef mymodel(unfreeze=True, num_classes=2):\\n  \"\"\"\\n  Unfreeze(True) all the model weights or freeze(False) the convolutional \\n  layers only\\n  \"\"\"\\n  device = torch.device(\"cuda:0\" if torch.cuda.is_available() else \"cpu\")\\n  model = EfficientNet.from_pretrained(\\'efficientnet-b0\\', num_classes=num_classes)\\n  model = model.to(device)\\n  for param in model.parameters():\\n    param.requires_grad = unfreeze\\n  return net\\n'"
            ]
          },
          "metadata": {
            "tags": []
          },
          "execution_count": 146
        }
      ]
    },
    {
      "cell_type": "code",
      "metadata": {
        "id": "CPIL3L8iycz4",
        "colab_type": "code",
        "colab": {}
      },
      "source": [
        "from torch import nn\n",
        "\n",
        "def mymodel(unfreeze=True):\n",
        "  \"\"\"\n",
        "  Unfreeze(True) all the model weights or freeze(False) the convolutional \n",
        "  layers only\n",
        "  \"\"\"\n",
        "  device = torch.device(\"cuda:0\" if torch.cuda.is_available() else \"cpu\")\n",
        "  model = EfficientNet.from_pretrained('efficientnet-b0', num_classes=10)\n",
        "  class Net(nn.Module):\n",
        "        def __init__(self):\n",
        "            super().__init__()\n",
        "            self.model = model\n",
        "            self.fc1 = nn.Linear(10, 2)\n",
        "            \n",
        "        def forward(self, x):\n",
        "            x = self.model(x)\n",
        "            x = self.fc1(x)\n",
        "            x = torch.nn.functional.softmax(x)\n",
        "            return x\n",
        "\n",
        "  net = Net()\n",
        "  model = model.to(device)\n",
        "  net = net.to(device)\n",
        "  if unfreeze is True:\n",
        "      for param in model.parameters():\n",
        "        param.requires_grad = unfreeze \n",
        "      for param in net.parameters():\n",
        "          param.requires_grad = unfreeze\n",
        "  if unfreeze is False:\n",
        "      for param in model.parameters():\n",
        "        param.requires_grad = unfreeze \n",
        "  return net"
      ],
      "execution_count": 0,
      "outputs": []
    },
    {
      "cell_type": "code",
      "metadata": {
        "id": "vs4eO1ys5hbb",
        "colab_type": "code",
        "colab": {}
      },
      "source": [
        "def get_num_parameters(model):\n",
        "  \"\"\"\n",
        "  Get the total number of parameters in a neural network.\n",
        "  \"\"\"\n",
        "  total_params = sum(p.numel() for p in model.parameters())\n",
        "  total_trainable_params = sum(\n",
        "  p.numel() for p in model.parameters() if p.requires_grad)\n",
        "  return total_params, total_trainable_params"
      ],
      "execution_count": 0,
      "outputs": []
    },
    {
      "cell_type": "code",
      "metadata": {
        "id": "Npmpt4Xs8Pcz",
        "colab_type": "code",
        "colab": {}
      },
      "source": [
        "import time\n",
        "import copy\n",
        "\n",
        "def train_model(model, criterion, optimizer, scheduler, num_epochs=2):\n",
        "    \"\"\"\n",
        "    Train and evaluate a model.\n",
        "    \"\"\"\n",
        "    since = time.time()\n",
        "    best_model_wts = copy.deepcopy(model.state_dict())\n",
        "    best_acc = 0.0\n",
        "\n",
        "    # Track all losses\n",
        "    training_loss, validation_loss = [], []\n",
        "    # Track all acc\n",
        "    training_acc, validation_acc = [], []\n",
        "\n",
        "    for epoch in range(num_epochs):\n",
        "        print('Epoch {}/{}'.format(epoch, num_epochs - 1))\n",
        "        print('-' * 10)\n",
        "\n",
        "        # Each epoch has a training and validation phase\n",
        "        for phase in ['train','val']:\n",
        "            if phase == 'train':\n",
        "                model.train()  # Set model to training mode\n",
        "            else:\n",
        "                model.eval()   # Set model to evaluate mode\n",
        "\n",
        "            running_loss = 0.0\n",
        "            running_corrects = 0\n",
        "\n",
        "            # Iterate over data.\n",
        "            for inputs, labels in dataloaders[phase]:\n",
        "                inputs = inputs.to(device)\n",
        "                labels = labels.to(device)\n",
        "\n",
        "                # zero the parameter gradients\n",
        "                optimizer.zero_grad()\n",
        "\n",
        "                # forward\n",
        "                # track history if only in train\n",
        "                with torch.set_grad_enabled(phase == 'train'):\n",
        "                    outputs = model(inputs)\n",
        "                    _, preds = torch.max(outputs, 1)\n",
        "                    loss = criterion(outputs, labels)\n",
        "\n",
        "                    # backward + optimize only if in training phase\n",
        "                    if phase == 'train':\n",
        "                        loss.backward()\n",
        "                        optimizer.step()\n",
        "\n",
        "                # statistics\n",
        "                running_loss += loss.item() * inputs.size(0) # This is batch loss\n",
        "                running_corrects += torch.sum(preds == labels.data)\n",
        "            if phase == 'train':\n",
        "                scheduler.step()\n",
        "\n",
        "            epoch_loss = running_loss / dataset_sizes[phase]\n",
        "            epoch_acc = running_corrects.double() / dataset_sizes[phase]\n",
        "\n",
        "            print('{} Loss: {:.4f} Acc: {:.4f}'.format(phase, epoch_loss, epoch_acc))\n",
        "\n",
        "            if phase == 'train':\n",
        "              training_loss.append(epoch_loss)\n",
        "              training_acc.append(epoch_acc)\n",
        "            if phase == 'val':\n",
        "              validation_loss.append(epoch_loss)\n",
        "              validation_acc.append(epoch_acc)\n",
        "            \n",
        "            # deep copy the model\n",
        "            if phase == 'val' and epoch_acc > best_acc:\n",
        "                best_acc = epoch_acc\n",
        "                best_model_wts = copy.deepcopy(model.state_dict())\n",
        "        print()\n",
        "    time_elapsed = time.time() - since\n",
        "    print('Training complete in {:.0f}m {:.0f}s'.format(\n",
        "        time_elapsed // 60, time_elapsed % 60))\n",
        "    print('Best val Acc: {:4f}'.format(best_acc))\n",
        "    # load best model weights\n",
        "    model.load_state_dict(best_model_wts)\n",
        "\n",
        "    return model, training_loss, validation_loss, training_acc, validation_acc"
      ],
      "execution_count": 0,
      "outputs": []
    },
    {
      "cell_type": "code",
      "metadata": {
        "id": "lGAVma7FVnbm",
        "colab_type": "code",
        "colab": {}
      },
      "source": [
        "import numpy as np\n",
        "import matplotlib.pyplot as plt\n",
        "\n",
        "def curve(training_loss, validation_loss, training_acc, validation_acc):\n",
        "    \"\"\"\n",
        "    Plot loss and accuracy curves.\n",
        "    \"\"\"\n",
        "    epoch = np.arange(len(training_loss))\n",
        "    plt.figure()\n",
        "    plt.plot(epoch, training_loss, 'r', label='Training loss',)\n",
        "    plt.plot(epoch, validation_loss, 'b', label='Validation loss',)\n",
        "    plt.legend()\n",
        "    plt.xlabel('Epoch')\n",
        "    plt.ylabel('Loss')\n",
        "    plt.show()\n",
        "    plt.figure()\n",
        "    plt.plot(epoch, training_acc, 'r', label='Training acc',)\n",
        "    plt.plot(epoch, validation_acc, 'b', label='Validation acc',)\n",
        "    plt.legend()\n",
        "    plt.xlabel('Epoch')\n",
        "    plt.ylabel('Accuracy')\n",
        "    plt.show()"
      ],
      "execution_count": 0,
      "outputs": []
    },
    {
      "cell_type": "code",
      "metadata": {
        "id": "4Z3hqf9XZTEl",
        "colab_type": "code",
        "colab": {}
      },
      "source": [
        "def run_test():\n",
        "    \"\"\"\n",
        "    Run a test set only once.\n",
        "    \"\"\"\n",
        "    correct = 0\n",
        "    total = 0\n",
        "    with torch.no_grad():\n",
        "        for data in dataloaders['test']:\n",
        "            images, labels = data\n",
        "            images = images.to(device)\n",
        "            labels = labels.to(device)\n",
        "            outputs = model(images)\n",
        "            _, predicted = torch.max(outputs.data, 1)\n",
        "            total += labels.size(0)\n",
        "            correct += (predicted == labels).sum().item()\n",
        "\n",
        "    print('Accuracy of the network on the test images: %d %%' % (\n",
        "      100 * correct / total))\n"
      ],
      "execution_count": 0,
      "outputs": []
    },
    {
      "cell_type": "code",
      "metadata": {
        "id": "-cgC624BWFGd",
        "colab_type": "code",
        "colab": {}
      },
      "source": [
        "#def my_calculator(future_epochs=50):\n",
        "#    mydict = {num_epochs: time_elapsed}\n",
        "#    future_time = future_epochs*my_dict[num_epochs]\n",
        "#    print('Training complete in {:.0f}m {:.0f}s'.format(future_time // 60, future_time % 60))\n",
        "#\n",
        "#my_calculator(future_epochs=100)  "
      ],
      "execution_count": 0,
      "outputs": []
    },
    {
      "cell_type": "code",
      "metadata": {
        "id": "aqPQleiD66N1",
        "colab_type": "code",
        "colab": {}
      },
      "source": [
        "def get_weight(train):\n",
        "  \"\"\"\n",
        "  Assign weights to handle imbalance classes\n",
        "  \"\"\"\n",
        "  counts = train.label_code.value_counts().to_list()\n",
        "  summed = sum(counts)\n",
        "  weight = [x / summed for x in counts]\n",
        "  weight = torch.tensor(weight)\n",
        "  weight = weight.to(device)\n",
        "  return(weight)"
      ],
      "execution_count": 0,
      "outputs": []
    },
    {
      "cell_type": "code",
      "metadata": {
        "id": "naFl7UDxo1Zq",
        "colab_type": "code",
        "outputId": "5a49ab00-3eb7-4820-d395-2aba16fa812b",
        "colab": {
          "base_uri": "https://localhost:8080/",
          "height": 1000
        }
      },
      "source": [
        "since = time.time()\n",
        "\n",
        "myseed(seed=42)\n",
        "\n",
        "# DATA\n",
        "data, mapping = load_data(data_dir='/content/drive/My Drive/skin')\n",
        "unknown, _= load_data(data_dir='/content/drive/My Drive/dermatology')\n",
        "train, val, test = data_split(data)\n",
        "data_transforms, df, image_datasets, dataloaders, dataset_sizes = get_loaders(size=224, batch_size=50,num_workers=4)\n",
        "\n",
        "# MODEL\n",
        "model = mymodel(unfreeze=True)\n",
        "total_params, total_trainable_params = get_num_parameters(model) \n",
        "print(f'{total_params:,} total parameters.')\n",
        "print(f'{total_trainable_params:,} training parameters.')\n",
        "\n",
        "# PARAMS\n",
        "import torch.optim as optim\n",
        "from torch import nn\n",
        "from torch.optim import lr_scheduler\n",
        "device = torch.device(\"cuda:0\" if torch.cuda.is_available() else \"cpu\")\n",
        "weight = get_weight(train)\n",
        "criterion = nn.CrossEntropyLoss(weight=weight)\n",
        "optimizer = optim.SGD(model.parameters(), lr=0.001, momentum=0.9)\n",
        "scheduler = lr_scheduler.StepLR(optimizer, step_size=7, gamma=0.1)\n",
        "\n",
        "# TRAIN\n",
        "model, training_loss, validation_loss, training_acc, validation_acc = train_model(model, criterion, optimizer, scheduler, num_epochs=20)\n",
        "curve(training_loss, validation_loss, training_acc, validation_acc)\n",
        "\n",
        "# Save the trained model\n",
        "PATH = './best_net.pth'\n",
        "torch.save(model.state_dict(), PATH)\n",
        "# Load our saved network\n",
        "model.load_state_dict(torch.load(PATH))\n",
        "\n",
        "#TEST\n",
        "run_test()\n",
        "\n",
        "time_elapsed = time.time() - since\n",
        "print('Training complete in {:.0f}m {:.0f}s'.format(\n",
        "    time_elapsed // 60, time_elapsed % 60))"
      ],
      "execution_count": 154,
      "outputs": [
        {
          "output_type": "stream",
          "text": [
            "Loaded pretrained weights for efficientnet-b0\n",
            "4,020,380 total parameters.\n",
            "4,020,380 training parameters.\n",
            "Epoch 0/19\n",
            "----------\n"
          ],
          "name": "stdout"
        },
        {
          "output_type": "stream",
          "text": [
            "/usr/local/lib/python3.6/dist-packages/ipykernel_launcher.py:19: UserWarning: Implicit dimension choice for softmax has been deprecated. Change the call to include dim=X as an argument.\n"
          ],
          "name": "stderr"
        },
        {
          "output_type": "stream",
          "text": [
            "train Loss: 0.6901 Acc: 0.6011\n",
            "val Loss: 0.6901 Acc: 0.5435\n",
            "\n",
            "Epoch 1/19\n",
            "----------\n",
            "train Loss: 0.6869 Acc: 0.6011\n",
            "val Loss: 0.6853 Acc: 0.6087\n",
            "\n",
            "Epoch 2/19\n",
            "----------\n",
            "train Loss: 0.6773 Acc: 0.6667\n",
            "val Loss: 0.6791 Acc: 0.6957\n",
            "\n",
            "Epoch 3/19\n",
            "----------\n",
            "train Loss: 0.6734 Acc: 0.7104\n",
            "val Loss: 0.6717 Acc: 0.8043\n",
            "\n",
            "Epoch 4/19\n",
            "----------\n",
            "train Loss: 0.6662 Acc: 0.7650\n",
            "val Loss: 0.6637 Acc: 0.8261\n",
            "\n",
            "Epoch 5/19\n",
            "----------\n",
            "train Loss: 0.6590 Acc: 0.7869\n",
            "val Loss: 0.6553 Acc: 0.8696\n",
            "\n",
            "Epoch 6/19\n",
            "----------\n",
            "train Loss: 0.6490 Acc: 0.8415\n",
            "val Loss: 0.6466 Acc: 0.9130\n",
            "\n",
            "Epoch 7/19\n",
            "----------\n",
            "train Loss: 0.6477 Acc: 0.8033\n",
            "val Loss: 0.6448 Acc: 0.9130\n",
            "\n",
            "Epoch 8/19\n",
            "----------\n",
            "train Loss: 0.6451 Acc: 0.8306\n",
            "val Loss: 0.6432 Acc: 0.9130\n",
            "\n",
            "Epoch 9/19\n",
            "----------\n",
            "train Loss: 0.6427 Acc: 0.8579\n",
            "val Loss: 0.6417 Acc: 0.9348\n",
            "\n",
            "Epoch 10/19\n",
            "----------\n",
            "train Loss: 0.6429 Acc: 0.8798\n",
            "val Loss: 0.6404 Acc: 0.9348\n",
            "\n",
            "Epoch 11/19\n",
            "----------\n",
            "train Loss: 0.6407 Acc: 0.8798\n",
            "val Loss: 0.6390 Acc: 0.9565\n",
            "\n",
            "Epoch 12/19\n",
            "----------\n",
            "train Loss: 0.6413 Acc: 0.8197\n",
            "val Loss: 0.6377 Acc: 0.9565\n",
            "\n",
            "Epoch 13/19\n",
            "----------\n",
            "train Loss: 0.6360 Acc: 0.8962\n",
            "val Loss: 0.6365 Acc: 0.9565\n",
            "\n",
            "Epoch 14/19\n",
            "----------\n",
            "train Loss: 0.6402 Acc: 0.8306\n",
            "val Loss: 0.6361 Acc: 0.9565\n",
            "\n",
            "Epoch 15/19\n",
            "----------\n",
            "train Loss: 0.6405 Acc: 0.8579\n",
            "val Loss: 0.6356 Acc: 0.9565\n",
            "\n",
            "Epoch 16/19\n",
            "----------\n",
            "train Loss: 0.6402 Acc: 0.8743\n",
            "val Loss: 0.6352 Acc: 0.9783\n",
            "\n",
            "Epoch 17/19\n",
            "----------\n",
            "train Loss: 0.6378 Acc: 0.8798\n",
            "val Loss: 0.6349 Acc: 0.9783\n",
            "\n",
            "Epoch 18/19\n",
            "----------\n",
            "train Loss: 0.6397 Acc: 0.8634\n",
            "val Loss: 0.6345 Acc: 0.9783\n",
            "\n",
            "Epoch 19/19\n",
            "----------\n",
            "train Loss: 0.6420 Acc: 0.8579\n",
            "val Loss: 0.6342 Acc: 0.9783\n",
            "\n",
            "Training complete in 3m 9s\n",
            "Best val Acc: 0.978261\n"
          ],
          "name": "stdout"
        },
        {
          "output_type": "display_data",
          "data": {
            "image/png": "[encoded data removed]",
            "text/plain": [
              "<Figure size 432x288 with 1 Axes>"
            ]
          },
          "metadata": {
            "tags": []
          }
        },
        {
          "output_type": "display_data",
          "data": {
            "image/png": "[encoded data removed]",
            "text/plain": [
              "<Figure size 432x288 with 1 Axes>"
            ]
          },
          "metadata": {
            "tags": []
          }
        },
        {
          "output_type": "stream",
          "text": [
            "/usr/local/lib/python3.6/dist-packages/ipykernel_launcher.py:19: UserWarning: Implicit dimension choice for softmax has been deprecated. Change the call to include dim=X as an argument.\n"
          ],
          "name": "stderr"
        },
        {
          "output_type": "stream",
          "text": [
            "Accuracy of the network on the test images: 93 %\n",
            "Training complete in 3m 12s\n"
          ],
          "name": "stdout"
        }
      ]
    },
    {
      "cell_type": "code",
      "metadata": {
        "id": "jSogV9dBdeSj",
        "colab_type": "code",
        "colab": {
          "base_uri": "https://localhost:8080/",
          "height": 54
        },
        "outputId": "252f239f-bfa2-4d74-c043-523e0b3ccc47"
      },
      "source": [
        "def make_predictions(mapping):\n",
        "  \"\"\"\n",
        "  Use a model to predict a class\n",
        "  Put the class in column predictions\n",
        "  \"\"\"\n",
        "  with torch.no_grad():\n",
        "    y_pred = []\n",
        "    y_score = []\n",
        "    for data in dataloaders['unknown']:\n",
        "      images, labels = data\n",
        "      images = images.to(device)\n",
        "      outputs = model(images)\n",
        "      scores, predicted = torch.max(outputs.data, 1)\n",
        "      if len(predicted) == 1:\n",
        "        y_pred.append(predicted.item())\n",
        "        y_score.append(scores.item())\n",
        "      else:\n",
        "        y_pred.extend(np.squeeze(predicted.cpu().numpy().T))\n",
        "        y_score.extend(np.squeeze(scores.cpu().numpy().T))\n",
        "  unknown['score'] = y_score\n",
        "  unknown['predictions'] = y_pred\n",
        "  unknown['new_label'] = unknown['predictions'].map(mapping)\n",
        "  return unknown\n",
        "\n",
        "last_df = make_predictions(mapping)"
      ],
      "execution_count": 155,
      "outputs": [
        {
          "output_type": "stream",
          "text": [
            "/usr/local/lib/python3.6/dist-packages/ipykernel_launcher.py:19: UserWarning: Implicit dimension choice for softmax has been deprecated. Change the call to include dim=X as an argument.\n"
          ],
          "name": "stderr"
        }
      ]
    },
    {
      "cell_type": "code",
      "metadata": {
        "id": "ygyrKj0g0hSo",
        "colab_type": "code",
        "outputId": "fddd0463-959d-4982-cce9-42a235ee7a09",
        "colab": {
          "base_uri": "https://localhost:8080/",
          "height": 1000
        }
      },
      "source": [
        "import base64\n",
        "\n",
        "from PIL import Image\n",
        "from io import BytesIO\n",
        "from IPython.display import HTML\n",
        "\n",
        "#pd.set_option('display.max_colwidth', -1)\n",
        "\n",
        "def get_thumbnail(path):\n",
        "    i = Image.open(path).convert('RGB')\n",
        "    i.thumbnail((150, 150), Image.LANCZOS)\n",
        "    return i\n",
        "\n",
        "def image_base64(im):\n",
        "    if isinstance(im, str):\n",
        "        im = get_thumbnail(im)\n",
        "    with BytesIO() as buffer:\n",
        "        im.save(buffer, 'jpeg')\n",
        "        return base64.b64encode(buffer.getvalue()).decode()\n",
        "\n",
        "def image_formatter(im):\n",
        "    return f'<img src=\"data:image/jpeg;base64,{image_base64(im)}\">'\n",
        "\n",
        "last_df['image'] = last_df.filenames.map(lambda f: get_thumbnail(f))\n",
        "#last_df.head()\n",
        "#last_df.to_csv('/content/drive/My Drive/predictions.csv')\n",
        "HTML(last_df[['new_label','predictions', 'score', 'image']].to_html(formatters={'image': image_formatter}, escape=False))"
      ],
      "execution_count": 156,
      "outputs": [
        {
          "output_type": "execute_result",
          "data": {
            "text/html": [
              "<table border=\"1\" class=\"dataframe\">\n",
              "  <thead>\n",
              "    <tr style=\"text-align: right;\">\n",
              "      <th></th>\n",
              "      <th>new_label</th>\n",
              "      <th>predictions</th>\n",
              "      <th>score</th>\n",
              "      <th>image</th>\n",
              "    </tr>\n",
              "  </thead>\n",
              "  <tbody>\n",
              "    <tr>\n",
              "      <th>0</th>\n",
              "      <td>not_skin</td>\n",
              "      <td>0</td>\n",
              "      <td>0.504221</td>\n",
              "      <td><img src=\"data:image/jpeg;base64,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\"></td>\n",
              "    </tr>\n",
              "    <tr>\n",
              "      <th>1</th>\n",
              "      <td>skin</td>\n",
              "      <td>1</td>\n",
              "      <td>0.554063</td>\n",
              "      <td><img src=\"data:image/jpeg;base64,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\"></td>\n",
              "    </tr>\n",
              "    <tr>\n",
              "      <th>2</th>\n",
              "      <td>skin</td>\n",
              "      <td>1</td>\n",
              "      <td>0.620283</td>\n",
              "      <td><img src=\"data:image/jpeg;base64,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\"></td>\n",
              "    </tr>\n",
              "    <tr>\n",
              "      <th>3</th>\n",
              "      <td>skin</td>\n",
              "      <td>1</td>\n",
              "      <td>0.608241</td>\n",
              "      <td><img src=\"data:image/jpeg;base64,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\"></td>\n",
              "    </tr>\n",
              "    <tr>\n",
              "      <th>4</th>\n",
              "      <td>skin</td>\n",
              "      <td>1</td>\n",
              "      <td>0.622253</td>\n",
              "      <td><img src=\"data:image/jpeg;base64,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\"></td>\n",
              "    </tr>\n",
              "    <tr>\n",
              "      <th>5</th>\n",
              "      <td>skin</td>\n",
              "      <td>1</td>\n",
              "      <td>0.601826</td>\n",
              "      <td><img src=\"data:image/jpeg;base64,/9j/4AAQSkZJRgABAQAAAQABAAD/2wBDAAgGBgcGBQgHBwcJCQgKDBQNDAsLDBkSEw8UHRofHh0aHBwgJC4nICIsIxwcKDcpLDAxNDQ0Hyc5PTgyPC4zNDL/2wBDAQkJCQwLDBgNDRgyIRwhMjIyMjIyMjIyMjIyMjIyMjIyMjIyMjIyMjIyMjIyMjIyMjIyMjIyMjIyMjIyMjIyMjL/wAARCABwAJYDASIAAhEBAxEB/8QAHwAAAQUBAQEBAQEAAAAAAAAAAAECAwQFBgcICQoL/8QAtRAAAgEDAwIEAwUFBAQAAAF9AQIDAAQRBRIhMUEGE1FhByJxFDKBkaEII0KxwRVS0fAkM2JyggkKFhcYGRolJicoKSo0NTY3ODk6Q0RFRkdISUpTVFVWV1hZWmNkZWZnaGlqc3R1dnd4eXqDhIWGh4iJipKTlJWWl5iZmqKjpKWmp6ipqrKztLW2t7i5usLDxMXGx8jJytLT1NXW19jZ2uHi4+Tl5ufo6erx8vP09fb3+Pn6/8QAHwEAAwEBAQEBAQEBAQAAAAAAAAECAwQFBgcICQoL/8QAtREAAgECBAQDBAcFBAQAAQJ3AAECAxEEBSExBhJBUQdhcRMiMoEIFEKRobHBCSMzUvAVYnLRChYkNOEl8RcYGRomJygpKjU2Nzg5OkNERUZHSElKU1RVVldYWVpjZGVmZ2hpanN0dXZ3eHl6goOEhYaHiImKkpOUlZaXmJmaoqOkpaanqKmqsrO0tba3uLm6wsPExcbHyMnK0tPU1dbX2Nna4uPk5ebn6Onq8vP09fb3+Pn6/9oADAMBAAIRAxEAPwDzDxHp4028a4tVL2ruSm592z/ZOO+KwftUwGFcov8AdT5R+lfTOqfC3Q5NCvbeyt3jmkj+UtKz8jkcGvmm/spLC9ltpRh42KmnYV7kXmserMfqTTRIQetNxTSOaYG5ot7bxTS/akkcNEUTYMkMcYP860oF0sfaGm+0xRAhoGO5FT5ccnk8tXJxyPGwZHZWByCpwRW9H4v11YxGdTuGUDADEN/MUahZPc17XxHrOn33lWOo3abGPlxtIZfl7cHORXUaV8UtcdjHcWmn3e1SSRblGx35Q8fXFVvBN14n11JriJ0mghcRFiqq4JHQEL90DqK6Gy8L6oxMv2yCQHKM8UEIDdiOnHvUuetrFqC3uQ3vxBv/ABDbDTora3sdz+Y8qEuCFGQOenStTSvigbKxkttWsJr/AM8nzbiKRVzkYAx06CpYvCMojIEVrk9fkUfyxUR8ByglwlsjfwlEHH4AcUXFbzMT7VI1uGUERMxxkdx0/SmecxP4U54ZIyYnbJRiCO2aZ80XzhQ5XBCnvXoQskeXO7Zb02ZkmuyM/wCqGfp81U/MIxzVuxeWeTUJmxuMe5scdjVA0UtZSv8A1oFXSMbf1qSNIc1G75BppPNMJrYwuOLZPt/9cVXYk/l/T/69Sk/5/wA/So8fNj3/AKgf0oC5EV3ybfdj+oFFOQ4fcf7v8yTRSsVc+hRcDG5RuGe1fP8A8VvDEdt4kNxCyp9pBdU74/8A1nFez3mtRafavcTKdqjoDgt7CvI9Zn07VNan1TUHvbiWQbUjaVESNB0VcAnFeU6kIv3mexClOavFHmEelTS6glmRscnknsO5qpe2ctjeS20oxJExU4r0a+TRZNk401S/3dzXEhOR9CO1Y11NY7iRp9iCepaMsT+LEmo9tHoa/V59TituE35GM4606NSxwAT9BmuibU9rbYreBAP7kKD+lb3gmyuPEfjHT7NzI1ssnnXHOAIk+ZvzwB+NUp36EOFup6b4Tih8I6DpOhyxStqF1GbiVVA+V2G4gn2XH5V09taXqWoxazMMAriOsi6sX1DXW1r7QI5Bny1MbYAxjkZ9K6JrdpYIit1Mq7RgKxA/Ks6aqNy5/l6BJxSViB3uLZVaa3eHd03rgmsrUL07ly+7BztBxx35q7cCMoSt00h3YO5t2KzrqxguozHKdwPBA7itCTlr63hMhaBwHLENGzjjvwc1QdcHawwfSt650+DTJFkgsZ5SPl3R4woPc55xQLBNSQyEujcDEiEEVrCs46MxnQUtUZWmACHUyf4YsfoarW1lcXzvHawtNIq7yq9cD+dX5bWfTIL3K745hjI5A4wD9abpiiPTri6aHeoI+dZvLaLbyD7gnjFbKqoxlNdzCVFuUYPsYzgq5VgQwPII5FMNUbW4kuLqaWVyzMccnoMnj9auHmuqDbV2cc0k2kIx4P8An1puec++f1J/pTup5/z0/wAajOdhIH8P9P8A69WQQykpF75Ufp/9eipGTe233J/LAopDudx4ytr2+0Ui0Ylg4JVickfXpXlNxZXsB/fMy84yfWvab9ZpY1OFbD8qx68cAD/69eda/bsZWfYU5OVIPJ646nFeNOKbue5CrKKsmc00UjRbXkZlznGapvAoPT86vbcttZio9AKasSNLtlLoueoTcalaCc29zP8AJAPTFewfCrSl07w5f65sX7VdyfZbcvxiNeWP4n+VeZR2jT3kFrZws0s7COMyDlmJwDjt1r3HUoV0HTtJ0lVXy4Y0gLJ03Hq35/zrSJN+4+e7u5BtJXPqozS2WtNP4dt51UtMY8BfVgcGmmKdFIVhgcVgeGLy3gMtsUhELksxdiPnHQc8Y5NUnrYbWlzX0+302N1kmsn8yV2eVvPYYYknoPwrmE8e6fcXxtrqyTS2jYozLcGUOc8cEZFbPiTxVp3h+wtrtreGcPJskihdWYcE5HPtXiccn9t65I9sipcy3XmRFs4K5zyPoBT5UlZBzNvU90W5VkLFgfTBqvm4aVXt9txJn/VSNtDD8KpIL2WJWSEAg/Mo71W1z7RFpBlIaNwwBKkggVlLYuO5vOdYmV0OkWTDHzKZyP6Vw+oXd1HBPYXdvb296GYKEP8AAWztX/H3rJ+1TIWKTSgnrhzzWxoYiuUL3ECSyFiPMmUtx6ZrKm22a1UuU56xV4XdJFKtnkGtINnFdlNoMN6gJiRHA6xtyfbkf1rm73SbiykcNE6qOm7HP5V6lKuvhZ5FbDte8tSgWIBPt/n+VB9PfH6gf0pDyMfh/n86RWycn1z/ADNdVzksOiIMuT/dJ/MmioZGKRkjr8o/T/69FAWPSbudo4iEjkmmIwGZ9oyfYVz1/ZTwQp5k0KMpDiKHGB6k+9bLG3gkXdb+bLjcsfLMR6mqGpvJLcj5VibbuxlTj2OM4xXks9c4+5i0/e8qoGdukbSYw386rIuwNDPHNGDnZHGuST9cVpTiR7hisy28anmZ4sEe4qSAQyyDyoX1Mj78sx2KPYVAGt4EgvP7SN7a6dHcLZ4MgVDuLMOCSTk464AFdFrI1DWY0N15MTPNuVN2QuAeGx9B3rd8M6Ylr4UD3Npbx3Fw+/EYOFX+EZ7nApuoW1xcSgrKkYjbMfy9Btwcjv1zWsdgcSpaXRhsxDcyJLIEIMm0j8aw7aBZLSNtgIbPB6Gun+zqEY/eYJy2OM45rDtDizhUdADgkZwaUi1oYOo6PYapCsF0joisWGwkZJ7+9P03w5o+nXCNaWQMqjiZgS3PXmpbq5khmZHABXpxwadHqHyjLc9xis+Yux0AgG0dT9Kil8ktscgjptbmmWbxyfMJWHr81Xkt4QwbBPqTg5qhFD7JAR8sIHqFTOaowJcWkrh1jKYJVntuF5+uDitm5lktSGiCFO4OadHNFeAOY8YOCDwQaUoqSswTsQQERRoZCdrcKwxg/hT7yzWaICUoyH1HSpbmygmt2A3x4H8L46VFbW6QwbNu8f3iOnpTaYrnF6jojRs0luQQDwgGCKwGyoK8hhwfyAr1I2azNu2hyep6Vj6j4diuTuPySDpgCt6VeUdJbHPVw8Z6x0ZxLAO2MZ+Zj/IUVbutOudMlIcBx0BH1JorrVSLV7nE6U07WO2e5aYcziNOnA5I9qybmBVYtbu8YxyoUHOe5FXUEShpHDMf4QeB7cCqsrSyQ/LKIj6BOMeleceiZEJjsrslbGaafBUvgYYH/PpV3TrO8v8AU4bMEQCWULst1A2juSx9s1NJIEUcNIwGMcD9a6jwPYv9qnvCqLHGoRVHOXb3+n86Eho63UNlrHDBGvygcD0GMD+VZDRtO+1ELHrtWrGq3Dm/k2lCqDbyOeKzmnLc98VRQjviN9vGAetcO+pXEdrEsP7sYbkjk4Pauzcgxvk9qwLGyW+0ZomKnhtvYg560pAjnpJ3klzI5Ziv8RPFOjJzhh+VR39pPYzIzjcpXhh0GD/OhJC6529u/Ws7F3Oo0+0t5LNZrdjv6MzHofpV+CV0OwgSH1xXM6bPPFLsTcUPJXsTXQxeYu1o1Pqc9qBbl4qNuXUhcdCM0saKMhduTz161Xa5ZsK3UdcGlW5jXgJjsT0piLjRweWN/f0prW6rFmNgVPPrVR7oHKxk57ZpI7srlGTBPJIPBppgWojHuJyMnvTpFWXgsMj2rkfE/iCW2j8i3YxyHDCVGBx7YriofEN9aXPnrdzl92SC5IP1Bp8wrHqlza+Y3KkjNFY2m+NbC7hH2phDOo+bP3T9KKWhWpC8/mfMu5RjqB1pilfvMW3f3T/h2qpLqIBZYlAyAPTFNQuqA7cDk4J60XMi88gLgRrtU9fU16RoFuum+H4d33gpmbPUk9M/pXnej2TalqtvbYwHOX56KOTXo99+7sRGDgMensKpFIy3YuWJbrz9aryKRwTyfSpWIz2xUVxOkS7n4GcZAzQxkEk2UYbRkg1j6G2y34JOWbjv1NaBvbeTdGjrvOeoxWVoygebu24Dt1OO5pMYmrI0lqOuUYnOQMcHFYFoWmeZVVZGRBggFyWJ9B7Zrd1mRvsFygiYHjG76jmq+gXkun6FdzcL5sxy+zb0UAfhWVSfIrlwV3Yr6lqgs9NutO8h4pZFDhwxKjBBwO/NO0HXLy5iEUkFzfMBu3RruKjPeuU8ST3d1dC5RtoVdoY8BvX8KueBtX+yRyFoGAjXElxuAjG49z6n+lawxFN0dVZ/r/wTH6vU9ve+n9fkd1qVwNMjNxdxyrECBlELHn2Hb3qnb6zpl0W8i8Qn0Jxz+NYdrrsdpcyyefJJazuwUHDtKO/PZc5p9/8AYLyUOz2VrtH3I4hHgHoD0z+VZ88Iq85Jf12OiVN3tBNnU+aWjDBQT7VJjYJJpSqIEy2RyB3NcJFr8mnX8enCZDa7gxmO5t2epHYAf0rbv/EGlaZ4eMMF/BcSNEUhjgO7Ge5xwo+teXicbiIVYQowum/w/Q3hh4OLc3ZmJqVnpccDSR6p5r7h+7VOSD6E1giwhm1BIoWk8tv4pAAf0qqsxZcBzntVW41ZtPAJBaXBKjdjn1NepK9tNzCko8659uvodVF4Rlkc+VcoFxnJyf5UVyNn4n12zEk9vckvI3zh1DL7cUVw1KeN5vckrf15HVKrhJO/K1/XqeiRIoJOMemKmb3ArOlu5ChCIoTp81ILx3AH3mJr0TzTu/AkJ+13dwwUnZ5Yx2zya6PU5P3gU52gdP1qv4V0uTStGUXICztmRwDwM9B+QplxuuJmY9BzzVIogI4LDjHSoJ2Lr94ZFXLeKGVz9pkaNAuRsGST6VRkIWRhnI5wfUUMZVWMfNJtXzCPmZRjNZOmSBJJsHBEjD9a3gBtdmbaMd+9cdJJdQea9seBOd2AOhqWBsX0i/Z7hGlUnyySB6YrFXUXNjYW95uNvO5ICtjCAcgehyakN35sJEq7iRhsHisuWNptOEau6rFIxwCDgYrKorxNadua1zT1bSrbStLl1RYbW+gWQRQWskjZ6Z5yOtc5baxpOtWd7Dfi10272eXbxjKQsvU7j0J7dK6Hw9rF3okM0IS01GGePKBn2Mrc4JDe57VyGr+H/td6JJEaF3OWTzFUP/QVy1YxklG7XmvJm8It3a6DIrVYLkXCx/OP3ZjiG7I4wc9x3yKva3oU1prM5DRXWoBVy+CEgXGSefQUl7MYygE0aGIYHkndj29KzZr6R5riR2cLKBvRnLbiPU0QU5Pm089DRunSejv29e5f0SaHzGt7lS5UHaV/ib/Cr9/4d3WLXSJbyJISN1udvIGfmXsPcVkeFZmW7M7AZz8qlckjPQfWvTNMaDUI5EdY7QIuWbHRv7g/Dk1fO4ysjNpNXZ5o1hY3MEXkSv8AIisXLY+bvj2zWHqtir3EcwzsPLSYwGA6ED/Oa276+jTVZ7N2t7a2DfvCucCPJ3Yz64+vNZfjDWTrt40lrAtvZAKqQxjb8qjA/wD1VupO+pjKKtoZDa19jl2WqRvgYO8ZH/66KyfKTdtBYY9uaK1uZcrP/9k=\"></td>\n",
              "    </tr>\n",
              "    <tr>\n",
              "      <th>6</th>\n",
              "      <td>skin</td>\n",
              "      <td>1</td>\n",
              "      <td>0.626788</td>\n",
              "      <td><img src=\"data:image/jpeg;base64,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\"></td>\n",
              "    </tr>\n",
              "    <tr>\n",
              "      <th>7</th>\n",
              "      <td>skin</td>\n",
              "      <td>1</td>\n",
              "      <td>0.525162</td>\n",
              "      <td><img src=\"data:image/jpeg;base64,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\"></td>\n",
              "    </tr>\n",
              "    <tr>\n",
              "      <th>8</th>\n",
              "      <td>not_skin</td>\n",
              "      <td>0</td>\n",
              "      <td>0.521222</td>\n",
              "      <td><img src=\"data:image/jpeg;base64,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\"></td>\n",
              "    </tr>\n",
              "    <tr>\n",
              "      <th>9</th>\n",
              "      <td>skin</td>\n",
              "      <td>1</td>\n",
              "      <td>0.597337</td>\n",
              "      <td><img src=\"data:image/jpeg;base64,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\"></td>\n",
              "    </tr>\n",
              "    <tr>\n",
              "      <th>10</th>\n",
              "      <td>skin</td>\n",
              "      <td>1</td>\n",
              "      <td>0.569239</td>\n",
              "      <td><img src=\"data:image/jpeg;base64,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\"></td>\n",
              "    </tr>\n",
              "  </tbody>\n",
              "</table>"
            ],
            "text/plain": [
              "<IPython.core.display.HTML object>"
            ]
          },
          "metadata": {
            "tags": []
          },
          "execution_count": 156
        }
      ]
    },
    {
      "cell_type": "code",
      "metadata": {
        "id": "Uf34uAFQ5nZN",
        "colab_type": "code",
        "colab": {}
      },
      "source": [
        "# To print to log\n",
        "#print('train', train.shape)\n",
        "#print('test', test.shape)\n",
        "#print('val', val.shape)\n",
        "#print('unknown', unknown.shape)\n",
        "#print(f'{total_params:,} total parameters.')\n",
        "#print(f'{total_trainable_params:,} training parameters.')\n",
        "#image, label = next(iter(dataloaders['train']))\n",
        "#print(image.shape)\n",
        "#print(label.shape)"
      ],
      "execution_count": 0,
      "outputs": []
    },
    {
      "cell_type": "code",
      "metadata": {
        "id": "SdrZEoOVdDce",
        "colab_type": "code",
        "outputId": "7b1d6ab1-9bea-4fba-b699-864950b94292",
        "colab": {
          "base_uri": "https://localhost:8080/",
          "height": 88
        }
      },
      "source": [
        "# THE CONFUSION MATRIX IS ON THE TEST?\n",
        "\n",
        "from sklearn.metrics import confusion_matrix\n",
        "\n",
        "model.eval()\n",
        "y_true = []\n",
        "y_pred = []\n",
        "y_score = []\n",
        "with torch.no_grad():\n",
        "    for data in dataloaders['test']:\n",
        "        images, labels = data\n",
        "        images = images.to(device)\n",
        "        labels = labels.to(device)\n",
        "        outputs = model(images)\n",
        "        #print(outputs)\n",
        "        scores, predicted = torch.max(outputs.data, 1)\n",
        "        #print(scores)\n",
        "        #print(predicted)\n",
        "        #break\n",
        "        if len(predicted) == 1:\n",
        "          y_predict.append(predicted.item())\n",
        "          y_true.append(labels.item())\n",
        "          y_score.append(scores.item())\n",
        "        else:\n",
        "          y_pred.extend(np.squeeze(predicted.cpu().numpy().T))\n",
        "          y_true.extend(labels.cpu().numpy())\n",
        "          y_score.extend(np.squeeze(scores.cpu().numpy().T))\n",
        "\n",
        "# compute the confusion matrix\n",
        "confusion_matrix(y_true, y_pred, labels=[0, 1])\n",
        "\n",
        "# MAP THE LIST TO SKIN NOT SKIN\n",
        "# plot the confusion matrix"
      ],
      "execution_count": 158,
      "outputs": [
        {
          "output_type": "stream",
          "text": [
            "/usr/local/lib/python3.6/dist-packages/ipykernel_launcher.py:19: UserWarning: Implicit dimension choice for softmax has been deprecated. Change the call to include dim=X as an argument.\n"
          ],
          "name": "stderr"
        },
        {
          "output_type": "execute_result",
          "data": {
            "text/plain": [
              "array([[18,  3],\n",
              "       [ 1, 36]])"
            ]
          },
          "metadata": {
            "tags": []
          },
          "execution_count": 158
        }
      ]
    },
    {
      "cell_type": "code",
      "metadata": {
        "id": "368mIE8zhB9Q",
        "colab_type": "code",
        "outputId": "0fcce227-60cb-425c-8d3d-5bac15eebcc0",
        "colab": {
          "base_uri": "https://localhost:8080/",
          "height": 34
        }
      },
      "source": [
        "# ROC TOO ON TEST?\n",
        "from sklearn.metrics import roc_auc_score\n",
        "roc_auc_score(y_true, y_score)"
      ],
      "execution_count": 159,
      "outputs": [
        {
          "output_type": "execute_result",
          "data": {
            "text/plain": [
              "0.6936936936936937"
            ]
          },
          "metadata": {
            "tags": []
          },
          "execution_count": 159
        }
      ]
    },
    {
      "cell_type": "code",
      "metadata": {
        "id": "p_VByOTndo0C",
        "colab_type": "code",
        "outputId": "81817e58-8f47-415f-bff1-9d09149d1d08",
        "colab": {
          "base_uri": "https://localhost:8080/",
          "height": 170
        }
      },
      "source": [
        "# Generate a classification report\n",
        "from sklearn.metrics import classification_report\n",
        "print(classification_report(y_true, y_pred))"
      ],
      "execution_count": 160,
      "outputs": [
        {
          "output_type": "stream",
          "text": [
            "              precision    recall  f1-score   support\n",
            "\n",
            "           0       0.95      0.86      0.90        21\n",
            "           1       0.92      0.97      0.95        37\n",
            "\n",
            "    accuracy                           0.93        58\n",
            "   macro avg       0.94      0.92      0.92        58\n",
            "weighted avg       0.93      0.93      0.93        58\n",
            "\n"
          ],
          "name": "stdout"
        }
      ]
    }
  ]
}